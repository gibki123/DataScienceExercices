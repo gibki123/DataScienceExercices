{
 "cells": [
  {
   "cell_type": "code",
   "execution_count": 8,
   "metadata": {},
   "outputs": [],
   "source": [
    "from tensorflow.keras.models import load_model\n",
    "from resize_image import resize_image\n",
    "from imutils import paths\n",
    "import numpy as np\n",
    "import imutils\n",
    "import cv2\n",
    "import pickle\n",
    "import tensorflow as tf\n",
    "from matplotlib import pyplot as plt"
   ]
  },
  {
   "cell_type": "code",
   "execution_count": 2,
   "metadata": {},
   "outputs": [],
   "source": [
    "MODEL_FILENAME = \"model_nn.hdf5\"\n",
    "MODEL_LABELS_FILENAME = \"model_labels.dat\"\n",
    "IMAGE = \"T36H.png\"\n",
    "PIXEL_MARGIN = 3\n",
    "IMAGE_SIZE_X = 20\n",
    "IMAGE_SIZE_Y = 20"
   ]
  },
  {
   "cell_type": "code",
   "execution_count": 3,
   "metadata": {},
   "outputs": [],
   "source": [
    "# Odczyt modelu etykiet do pliku\n",
    "with open(MODEL_LABELS_FILENAME, \"rb\") as f:\n",
    "    lb = pickle.load(f)"
   ]
  },
  {
   "cell_type": "code",
   "execution_count": 4,
   "metadata": {},
   "outputs": [],
   "source": [
    "# Załadowanie modelu sieci neuronowej\n",
    "model = load_model(MODEL_FILENAME)"
   ]
  },
  {
   "cell_type": "code",
   "execution_count": 5,
   "metadata": {},
   "outputs": [],
   "source": [
    "# Odczyt pliku za pomoca opencv \n",
    "image = cv2.imread(IMAGE)\n",
    "# Przetworzenie obrazu z RBG do odcieni szarosci\n",
    "image = cv2.cvtColor(image, cv2.COLOR_BGR2GRAY)\n",
    "\n",
    "# Progowanie zdjęcia tak aby było czarno biale a nie w odcieniach szarosci\n",
    "thresh = cv2.threshold(image, 0, 255, cv2.THRESH_BINARY_INV | cv2.THRESH_OTSU)[1]\n",
    "\n",
    "# Wykrywanie konturow na zdjeciu \n",
    "contours = cv2.findContours(thresh.copy(), cv2.RETR_EXTERNAL, cv2.CHAIN_APPROX_SIMPLE)\n",
    "contours = contours[0] \n",
    "\n",
    "letter_image_regions = []\n",
    "\n",
    "# Przetwarzanie konturow na regiony ze znakami zdjec\n",
    "for contour in contours:\n",
    "    # Pobranie danych o wielkosci i polozeniu  konturu\n",
    "    (x, y, w, h) = cv2.boundingRect(contour)\n",
    "    letter_image_regions.append((x, y, w, h))\n",
    "\n",
    "# Zakladamy, ze nasze obrazy posiadaja taka sama liczbe znakow.\n",
    "# Sprawdzenie czy udalo sie wykryc 4 kontury\n",
    "if len(letter_image_regions) != 4:\n",
    "    print(\"Error: len(letter_image_regions) != 4\")\n",
    "\n",
    "# Sortowanie wykrytych znakow tak aby isc od lewej do prawej\n",
    "letter_image_regions = sorted(letter_image_regions, key=lambda x: x[0])"
   ]
  },
  {
   "cell_type": "code",
   "execution_count": 11,
   "metadata": {},
   "outputs": [
    {
     "name": "stdout",
     "output_type": "stream",
     "text": [
      "J\n",
      "J\n",
      "J\n",
      "J\n"
     ]
    },
    {
     "data": {
      "image/png": "[encoded data removed]",
      "text/plain": [
       "<Figure size 432x288 with 1 Axes>"
      ]
     },
     "metadata": {
      "needs_background": "light"
     },
     "output_type": "display_data"
    }
   ],
   "source": [
    "# Zapisywanie poszczegolnych znakow z obrazu do osobnych plikow\n",
    "for letter_bounding_box in letter_image_regions:\n",
    "    # Pobranie danych o wielkosci i polozeniu znaku\n",
    "    x, y, w, h = letter_bounding_box\n",
    "    # Wyciecie znaku z obrazu wraz z dodatkowym marginesem \n",
    "    letter_image = image[y - PIXEL_MARGIN:y + h + PIXEL_MARGIN, x - PIXEL_MARGIN:x + w + PIXEL_MARGIN]\n",
    "    # Skalowanie zdjecia do wielkosci 20x20\n",
    "    letter_image = resize_image(letter_image, IMAGE_SIZE_X, IMAGE_SIZE_Y)\n",
    "    plt.imshow(letter_image) \n",
    "    # Przetworzenie zdjecia tak aby ostatecznie znajdowalo sie w 4 wymiarach (1,20,20,1)\n",
    "    letter_image = np.expand_dims(letter_image, axis=2)\n",
    "    letter_image = np.expand_dims(letter_image, axis=0)    \n",
    "    letter_image = tf.cast(letter_image, tf.float32)\n",
    "    # Predykcja\n",
    "    prediction = model.predict(np.array(letter_image))\n",
    "    # Przetworzenie odpowiedzi sieci neuronowej na znak\n",
    "    letter = lb.inverse_transform(prediction)[0]\n",
    "\n",
    "#     print(letter)"
   ]
  },
  {
   "cell_type": "code",
   "execution_count": null,
   "metadata": {},
   "outputs": [],
   "source": []
  }
 ],
 "metadata": {
  "kernelspec": {
   "display_name": "Python 3",
   "language": "python",
   "name": "python3"
  },
  "language_info": {
   "codemirror_mode": {
    "name": "ipython",
    "version": 3
   },
   "file_extension": ".py",
   "mimetype": "text/x-python",
   "name": "python",
   "nbconvert_exporter": "python",
   "pygments_lexer": "ipython3",
   "version": "3.7.4"
  }
 },
 "nbformat": 4,
 "nbformat_minor": 2
}
