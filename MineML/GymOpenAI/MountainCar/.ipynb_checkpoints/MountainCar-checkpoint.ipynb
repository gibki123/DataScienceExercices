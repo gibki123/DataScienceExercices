{
 "cells": [
  {
   "cell_type": "code",
   "execution_count": 1,
   "metadata": {},
   "outputs": [],
   "source": [
    "import gym\n",
    "import numpy as np\n",
    "from tensorflow.keras.models import Sequential\n",
    "from tensorflow.keras.layers import Dense, Dropout\n",
    "\n"
   ]
  },
  {
   "cell_type": "code",
   "execution_count": 2,
   "metadata": {},
   "outputs": [],
   "source": [
    "def gather_data(env):\n",
    "    num_trials = 10000\n",
    "    min_score = 50\n",
    "    sim_steps = 200\n",
    "    trainingX, trainingY = [], []\n",
    "    scores = []\n",
    "    for _ in range (num_trials):\n",
    "        observations = env.reset()\n",
    "        score = 0\n",
    "        training_sampleX, training_sampleY = [], []\n",
    "        for _ in range(sim_steps):\n",
    "            action = np.random.randint(0, 3)\n",
    "            training_sampleX.append(observations)\n",
    "            training_sampleY.append(action)         \n",
    "            observations, reward, done, _ = env.step([action,1])\n",
    "            if done:\n",
    "                break\n",
    "            score += reward\n",
    "        if score > min_score:\n",
    "            scores.append(score)\n",
    "            trainingX += training_sampleX\n",
    "            trainingY += training_sampleY\n",
    "    trainingX, trainingY = np.array(trainingX), np.array(trainingY)\n",
    "    return trainingX, trainingY"
   ]
  },
  {
   "cell_type": "code",
   "execution_count": 3,
   "metadata": {},
   "outputs": [],
   "source": [
    "env = gym.make(\"MountainCar-v0\")"
   ]
  },
  {
   "cell_type": "code",
   "execution_count": null,
   "metadata": {},
   "outputs": [],
   "source": []
  }
 ],
 "metadata": {
  "kernelspec": {
   "display_name": "Python 3",
   "language": "python",
   "name": "python3"
  },
  "language_info": {
   "codemirror_mode": {
    "name": "ipython",
    "version": 3
   },
   "file_extension": ".py",
   "mimetype": "text/x-python",
   "name": "python",
   "nbconvert_exporter": "python",
   "pygments_lexer": "ipython3",
   "version": "3.7.4"
  }
 },
 "nbformat": 4,
 "nbformat_minor": 2
}
