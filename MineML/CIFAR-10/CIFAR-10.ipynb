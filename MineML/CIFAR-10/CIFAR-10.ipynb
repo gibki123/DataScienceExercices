{
 "cells": [
  {
   "cell_type": "code",
   "execution_count": 13,
   "metadata": {},
   "outputs": [],
   "source": [
    "import os\n",
    "os.environ[\"KERAS_BACKEND\"] = \"plaidml.keras.backend\"\n",
    "import keras\n",
    "from keras.datasets import cifar10\n",
    "from keras.models import Sequential\n",
    "from keras.layers import Dense, Dropout, Activation, Flatten\n",
    "from keras.layers import Convolution2D, MaxPooling2D\n",
    "from keras.utils import to_categorical\n",
    "from keras.preprocessing.image import ImageDataGenerator"
   ]
  },
  {
   "cell_type": "code",
   "execution_count": 2,
   "metadata": {},
   "outputs": [],
   "source": [
    "(x_train, y_train), (x_test, y_test) = cifar10.load_data()"
   ]
  },
  {
   "cell_type": "code",
   "execution_count": 3,
   "metadata": {},
   "outputs": [
    {
     "name": "stdout",
     "output_type": "stream",
     "text": [
      "(50000, 32, 32, 3)\n",
      "(10000, 32, 32, 3)\n"
     ]
    }
   ],
   "source": [
    "print(x_train.shape)\n",
    "print(x_test.shape)\n"
   ]
  },
  {
   "cell_type": "code",
   "execution_count": 4,
   "metadata": {},
   "outputs": [],
   "source": [
    "y_train = to_categorical(y_train)\n",
    "y_test = to_categorical(y_test)"
   ]
  },
  {
   "cell_type": "code",
   "execution_count": 5,
   "metadata": {},
   "outputs": [],
   "source": [
    "model = Sequential()"
   ]
  },
  {
   "cell_type": "code",
   "execution_count": 6,
   "metadata": {},
   "outputs": [
    {
     "name": "stderr",
     "output_type": "stream",
     "text": [
      "INFO:plaidml:Opening device \"opencl_nvidia_geforce_gtx_970.0\"\n"
     ]
    }
   ],
   "source": [
    "model.add(Convolution2D(32, (3, 3),input_shape=(32,32,3)))\n",
    "model.add(Convolution2D(32, (3,3), activation = 'relu'))\n",
    "model.add(MaxPooling2D((2,2)))\n",
    "model.add(Convolution2D(64,(3,3), activation = 'relu'))\n",
    "model.add(Convolution2D(64,(3,3), activation = 'relu'))\n",
    "model.add(MaxPooling2D((2,2)))\n",
    "model.add(Flatten())\n",
    "#Quantity of outputs after flattening\n",
    "model.add(Dense(64*8,activation = 'relu'))\n",
    "#Number of different classes i.e. airplane, dog etc.\n",
    "model.add(Dense(10, activation = 'softmax'))\n",
    "\n",
    "model.compile(optimizer='rmsprop', loss='categorical_crossentropy', metrics=['accuracy'])"
   ]
  },
  {
   "cell_type": "code",
   "execution_count": 5,
   "metadata": {},
   "outputs": [],
   "source": [
    "x_train = x_train.astype('float32')\n",
    "x_test = x_test.astype('float32')\n",
    "x_train /= 255\n",
    "x_test /= 255"
   ]
  },
  {
   "cell_type": "code",
   "execution_count": 8,
   "metadata": {},
   "outputs": [
    {
     "name": "stdout",
     "output_type": "stream",
     "text": [
      "Epoch 1/10\n",
      "50000/50000 [==============================] - 47s 932us/step - loss: 1.3989 - acc: 0.5021\n",
      "Epoch 2/10\n",
      "50000/50000 [==============================] - 45s 907us/step - loss: 0.9311 - acc: 0.6792\n",
      "Epoch 3/10\n",
      "50000/50000 [==============================] - 44s 889us/step - loss: 0.7744 - acc: 0.7401\n",
      "Epoch 4/10\n",
      "50000/50000 [==============================] - 43s 860us/step - loss: 0.7175 - acc: 0.7604\n",
      "Epoch 5/10\n",
      "50000/50000 [==============================] - 44s 870us/step - loss: 0.6920 - acc: 0.7714\n",
      "Epoch 6/10\n",
      "50000/50000 [==============================] - 43s 867us/step - loss: 0.6794 - acc: 0.7763\n",
      "Epoch 7/10\n",
      "50000/50000 [==============================] - 44s 872us/step - loss: 0.6664 - acc: 0.7824\n",
      "Epoch 8/10\n",
      "50000/50000 [==============================] - 43s 857us/step - loss: 0.6642 - acc: 0.7870\n",
      "Epoch 9/10\n",
      "50000/50000 [==============================] - 43s 861us/step - loss: 0.6499 - acc: 0.7927\n",
      "Epoch 10/10\n",
      "50000/50000 [==============================] - 43s 859us/step - loss: 0.6512 - acc: 0.7921\n"
     ]
    },
    {
     "data": {
      "text/plain": [
       "<keras.callbacks.History at 0x22457f956c8>"
      ]
     },
     "execution_count": 8,
     "metadata": {},
     "output_type": "execute_result"
    }
   ],
   "source": [
    "model.fit(x_train, y_train, batch_size=32, epochs=10 , shuffle=True, verbose=1)"
   ]
  },
  {
   "cell_type": "code",
   "execution_count": 9,
   "metadata": {},
   "outputs": [
    {
     "name": "stdout",
     "output_type": "stream",
     "text": [
      "10000/10000 [==============================] - 6s 592us/step\n"
     ]
    }
   ],
   "source": [
    "scores = model.evaluate(x_test, y_test, verbose=1)"
   ]
  },
  {
   "cell_type": "code",
   "execution_count": 10,
   "metadata": {},
   "outputs": [
    {
     "data": {
      "text/plain": [
       "0.7332"
      ]
     },
     "execution_count": 10,
     "metadata": {},
     "output_type": "execute_result"
    }
   ],
   "source": [
    "scores[1]"
   ]
  },
  {
   "cell_type": "code",
   "execution_count": 11,
   "metadata": {},
   "outputs": [],
   "source": [
    "model.save(\"model_1_\"+str(scores[1])+\"_%_overfitted\")"
   ]
  },
  {
   "cell_type": "code",
   "execution_count": 12,
   "metadata": {},
   "outputs": [],
   "source": [
    "model2 = Sequential()"
   ]
  },
  {
   "cell_type": "code",
   "execution_count": 13,
   "metadata": {},
   "outputs": [
    {
     "name": "stdout",
     "output_type": "stream",
     "text": [
      "Epoch 1/25\n",
      "50000/50000 [==============================] - 63s 1ms/step - loss: 1.5298 - acc: 0.4528\n",
      "Epoch 2/25\n",
      "50000/50000 [==============================] - 43s 867us/step - loss: 1.1417 - acc: 0.6064\n",
      "Epoch 3/25\n",
      "50000/50000 [==============================] - 44s 880us/step - loss: 1.0366 - acc: 0.64812s - loss: 1.0374 - ac\n",
      "Epoch 4/25\n",
      "50000/50000 [==============================] - 44s 877us/step - loss: 1.0271 - acc: 0.6575\n",
      "Epoch 5/25\n",
      "50000/50000 [==============================] - 44s 875us/step - loss: 1.0519 - acc: 0.6550\n",
      "Epoch 6/25\n",
      "50000/50000 [==============================] - 44s 874us/step - loss: 1.0786 - acc: 0.6489\n",
      "Epoch 7/25\n",
      "50000/50000 [==============================] - 44s 871us/step - loss: 1.1085 - acc: 0.6420\n",
      "Epoch 8/25\n",
      "50000/50000 [==============================] - 44s 871us/step - loss: 1.1548 - acc: 0.6306\n",
      "Epoch 9/25\n",
      "50000/50000 [==============================] - 43s 870us/step - loss: 1.1791 - acc: 0.6233\n",
      "Epoch 10/25\n",
      "50000/50000 [==============================] - 44s 876us/step - loss: 1.2143 - acc: 0.6135\n",
      "Epoch 11/25\n",
      "50000/50000 [==============================] - 44s 874us/step - loss: 1.2529 - acc: 0.6006\n",
      "Epoch 12/25\n",
      "50000/50000 [==============================] - 44s 871us/step - loss: 1.2911 - acc: 0.5917\n",
      "Epoch 13/25\n",
      "50000/50000 [==============================] - 43s 869us/step - loss: 1.3203 - acc: 0.5833\n",
      "Epoch 14/25\n",
      "50000/50000 [==============================] - 43s 868us/step - loss: 1.3512 - acc: 0.5755\n",
      "Epoch 15/25\n",
      "50000/50000 [==============================] - 43s 862us/step - loss: 1.4101 - acc: 0.5549\n",
      "Epoch 16/25\n",
      "50000/50000 [==============================] - 43s 858us/step - loss: 1.4225 - acc: 0.5501\n",
      "Epoch 17/25\n",
      "50000/50000 [==============================] - 44s 870us/step - loss: 1.4757 - acc: 0.5331\n",
      "Epoch 18/25\n",
      "50000/50000 [==============================] - 43s 869us/step - loss: 1.5357 - acc: 0.5134\n",
      "Epoch 19/25\n",
      "50000/50000 [==============================] - 44s 872us/step - loss: 1.5506 - acc: 0.5029\n",
      "Epoch 20/25\n",
      "50000/50000 [==============================] - 43s 869us/step - loss: 1.5883 - acc: 0.4905\n",
      "Epoch 21/25\n",
      "50000/50000 [==============================] - 43s 868us/step - loss: 1.6091 - acc: 0.4852\n",
      "Epoch 22/25\n",
      "50000/50000 [==============================] - 44s 878us/step - loss: 1.6126 - acc: 0.4809\n",
      "Epoch 23/25\n",
      "50000/50000 [==============================] - 44s 871us/step - loss: 1.6450 - acc: 0.4674\n",
      "Epoch 24/25\n",
      "50000/50000 [==============================] - 43s 869us/step - loss: 1.6580 - acc: 0.4647\n",
      "Epoch 25/25\n",
      "50000/50000 [==============================] - 44s 872us/step - loss: 1.6668 - acc: 0.4617\n"
     ]
    },
    {
     "data": {
      "text/plain": [
       "<keras.callbacks.History at 0x22469e93408>"
      ]
     },
     "execution_count": 13,
     "metadata": {},
     "output_type": "execute_result"
    }
   ],
   "source": [
    "model2.add(Convolution2D(32, (3, 3),input_shape=(32,32,3)))\n",
    "model2.add(Convolution2D(32, (3,3), activation = 'relu'))\n",
    "model2.add(MaxPooling2D((2,2)))\n",
    "model2.add(Dropout(0.25))\n",
    "model2.add(Convolution2D(64,(3,3), activation = 'relu'))\n",
    "model2.add(Convolution2D(64,(3,3), activation = 'relu'))\n",
    "model2.add(MaxPooling2D((2,2)))\n",
    "model2.add(Dropout(0.25))\n",
    "model2.add(Flatten())\n",
    "#Quantity of outputs after flattening\n",
    "model2.add(Dense(64*8,activation = 'relu'))\n",
    "model2.add(Dropout(0.5))\n",
    "#Number of different classes i.e. airplane, dog etc.\n",
    "model2.add(Dense(10, activation = 'softmax'))\n",
    "\n",
    "model2.compile(optimizer='rmsprop', loss='categorical_crossentropy', metrics=['accuracy'])\n",
    "\n",
    "model2.fit(x_train, y_train, batch_size=32, epochs=25 , shuffle=True, verbose=1)"
   ]
  },
  {
   "cell_type": "code",
   "execution_count": 14,
   "metadata": {},
   "outputs": [
    {
     "name": "stdout",
     "output_type": "stream",
     "text": [
      "10000/10000 [==============================] - 6s 644us/step\n"
     ]
    },
    {
     "data": {
      "text/plain": [
       "0.5077"
      ]
     },
     "execution_count": 14,
     "metadata": {},
     "output_type": "execute_result"
    }
   ],
   "source": [
    "scores2 = model2.evaluate(x_test, y_test, verbose=1)\n",
    "scores2[1] "
   ]
  },
  {
   "cell_type": "code",
   "execution_count": 15,
   "metadata": {},
   "outputs": [],
   "source": [
    "model2.save(\"model_2_\"+str(scores2[1])+\"_%_underfitted\")"
   ]
  },
  {
   "cell_type": "code",
   "execution_count": 19,
   "metadata": {},
   "outputs": [
    {
     "name": "stdout",
     "output_type": "stream",
     "text": [
      "Epoch 1/25\n",
      "50000/50000 [==============================] - 64s 1ms/step - loss: 1.8487 - acc: 0.3217: 1s - loss: 1.8\n",
      "Epoch 2/25\n",
      "50000/50000 [==============================] - 43s 870us/step - loss: 1.5234 - acc: 0.4437\n",
      "Epoch 3/25\n",
      "50000/50000 [==============================] - 43s 869us/step - loss: 1.3842 - acc: 0.5016\n",
      "Epoch 4/25\n",
      "50000/50000 [==============================] - 43s 870us/step - loss: 1.2871 - acc: 0.5383\n",
      "Epoch 5/25\n",
      "50000/50000 [==============================] - 44s 880us/step - loss: 1.2097 - acc: 0.5718\n",
      "Epoch 6/25\n",
      "50000/50000 [==============================] - 43s 869us/step - loss: 1.1436 - acc: 0.5970\n",
      "Epoch 7/25\n",
      "50000/50000 [==============================] - 44s 870us/step - loss: 1.0873 - acc: 0.6153\n",
      "Epoch 8/25\n",
      "50000/50000 [==============================] - 43s 866us/step - loss: 1.0365 - acc: 0.6367\n",
      "Epoch 9/25\n",
      "50000/50000 [==============================] - 43s 869us/step - loss: 0.9962 - acc: 0.6536\n",
      "Epoch 10/25\n",
      "50000/50000 [==============================] - 43s 868us/step - loss: 0.9509 - acc: 0.6684\n",
      "Epoch 11/25\n",
      "50000/50000 [==============================] - 43s 868us/step - loss: 0.9250 - acc: 0.6759\n",
      "Epoch 12/25\n",
      "50000/50000 [==============================] - 43s 868us/step - loss: 0.8974 - acc: 0.6870\n",
      "Epoch 13/25\n",
      "50000/50000 [==============================] - 44s 876us/step - loss: 0.8683 - acc: 0.6967\n",
      "Epoch 14/25\n",
      "50000/50000 [==============================] - 44s 884us/step - loss: 0.8463 - acc: 0.7061\n",
      "Epoch 15/25\n",
      "50000/50000 [==============================] - 43s 866us/step - loss: 0.8301 - acc: 0.7108\n",
      "Epoch 16/25\n",
      "50000/50000 [==============================] - 43s 866us/step - loss: 0.8119 - acc: 0.7155\n",
      "Epoch 17/25\n",
      "50000/50000 [==============================] - 43s 868us/step - loss: 0.7980 - acc: 0.7224\n",
      "Epoch 18/25\n",
      "50000/50000 [==============================] - 43s 866us/step - loss: 0.7777 - acc: 0.7299\n",
      "Epoch 19/25\n",
      "50000/50000 [==============================] - 43s 868us/step - loss: 0.7686 - acc: 0.7310\n",
      "Epoch 20/25\n",
      "50000/50000 [==============================] - 43s 867us/step - loss: 0.7535 - acc: 0.7394\n",
      "Epoch 21/25\n",
      "50000/50000 [==============================] - 43s 868us/step - loss: 0.7489 - acc: 0.7407\n",
      "Epoch 22/25\n",
      "50000/50000 [==============================] - 43s 866us/step - loss: 0.7368 - acc: 0.7448\n",
      "Epoch 23/25\n",
      "50000/50000 [==============================] - 43s 866us/step - loss: 0.7271 - acc: 0.7490\n",
      "Epoch 24/25\n",
      "50000/50000 [==============================] - 43s 867us/step - loss: 0.7186 - acc: 0.7509\n",
      "Epoch 25/25\n",
      "50000/50000 [==============================] - 43s 867us/step - loss: 0.7130 - acc: 0.7542\n"
     ]
    },
    {
     "data": {
      "text/plain": [
       "<keras.callbacks.History at 0x2245b93f508>"
      ]
     },
     "execution_count": 19,
     "metadata": {},
     "output_type": "execute_result"
    }
   ],
   "source": [
    "\n",
    "\n",
    "model3 = Sequential()\n",
    "model3.add(Convolution2D(32, (3, 3),input_shape=(32,32,3)))\n",
    "model3.add(Convolution2D(32, (3,3), activation = 'relu'))\n",
    "model3.add(MaxPooling2D((2,2)))\n",
    "model3.add(Dropout(0.25))\n",
    "model3.add(Convolution2D(64,(3,3), activation = 'relu'))\n",
    "model3.add(Convolution2D(64,(3,3), activation = 'relu'))\n",
    "model3.add(MaxPooling2D((2,2)))\n",
    "model3.add(Dropout(0.25))\n",
    "model3.add(Flatten())\n",
    "#Quantity of outputs after flattening\n",
    "model3.add(Dense(64*8,activation = 'relu'))\n",
    "model3.add(Dropout(0.5))\n",
    "#Number of different classes i.e. airplane, dog etc.\n",
    "model3.add(Dense(10, activation = 'softmax'))\n",
    "\n",
    "opt = keras.optimizers.RMSprop(lr=0.0001, decay=1e-6)\n",
    "model3.compile(optimizer=opt, loss='categorical_crossentropy', metrics=['accuracy'])\n",
    "model3.fit(x_train, y_train, batch_size=32, epochs=25 , shuffle=True, verbose=1)\n",
    "\n",
    "\n"
   ]
  },
  {
   "cell_type": "code",
   "execution_count": 20,
   "metadata": {},
   "outputs": [
    {
     "name": "stdout",
     "output_type": "stream",
     "text": [
      "10000/10000 [==============================] - 6s 618us/step\n"
     ]
    },
    {
     "data": {
      "text/plain": [
       "0.753"
      ]
     },
     "execution_count": 20,
     "metadata": {},
     "output_type": "execute_result"
    }
   ],
   "source": [
    "scores3 = model3.evaluate(x_test, y_test, verbose=1)\n",
    "scores3[1] \n"
   ]
  },
  {
   "cell_type": "code",
   "execution_count": 21,
   "metadata": {},
   "outputs": [],
   "source": [
    "model3.save(\"model_3_\"+str(scores3[1])+\"_%_underfitted\")"
   ]
  },
  {
   "cell_type": "code",
   "execution_count": 6,
   "metadata": {},
   "outputs": [
    {
     "name": "stderr",
     "output_type": "stream",
     "text": [
      "INFO:plaidml:Opening device \"opencl_nvidia_geforce_gtx_970.0\"\n"
     ]
    },
    {
     "name": "stdout",
     "output_type": "stream",
     "text": [
      "Epoch 1/25\n",
      "50000/50000 [==============================] - 40s 799us/step - loss: 1.8179 - acc: 0.3277\n",
      "Epoch 2/25\n",
      "50000/50000 [==============================] - 26s 524us/step - loss: 1.5041 - acc: 0.4501\n",
      "Epoch 3/25\n",
      "50000/50000 [==============================] - 25s 505us/step - loss: 1.3705 - acc: 0.50500s - loss: 1.3713 - acc: \n",
      "Epoch 4/25\n",
      "50000/50000 [==============================] - 25s 509us/step - loss: 1.2746 - acc: 0.5430\n",
      "Epoch 5/25\n",
      "50000/50000 [==============================] - 25s 508us/step - loss: 1.1921 - acc: 0.5775\n",
      "Epoch 6/25\n",
      "50000/50000 [==============================] - 26s 518us/step - loss: 1.1324 - acc: 0.5996\n",
      "Epoch 7/25\n",
      "50000/50000 [==============================] - 25s 491us/step - loss: 1.0845 - acc: 0.6169\n",
      "Epoch 8/25\n",
      "50000/50000 [==============================] - 25s 493us/step - loss: 1.0372 - acc: 0.6364\n",
      "Epoch 9/25\n",
      "50000/50000 [==============================] - 25s 490us/step - loss: 0.9936 - acc: 0.6515\n",
      "Epoch 10/25\n",
      "50000/50000 [==============================] - 24s 487us/step - loss: 0.9625 - acc: 0.6588\n",
      "Epoch 11/25\n",
      "50000/50000 [==============================] - 24s 489us/step - loss: 0.9249 - acc: 0.6749\n",
      "Epoch 12/25\n",
      "50000/50000 [==============================] - 24s 489us/step - loss: 0.8908 - acc: 0.6875\n",
      "Epoch 13/25\n",
      "50000/50000 [==============================] - 24s 489us/step - loss: 0.8636 - acc: 0.6967\n",
      "Epoch 14/25\n",
      "50000/50000 [==============================] - 24s 488us/step - loss: 0.8411 - acc: 0.7060\n",
      "Epoch 15/25\n",
      "50000/50000 [==============================] - 24s 488us/step - loss: 0.8112 - acc: 0.7150\n",
      "Epoch 16/25\n",
      "50000/50000 [==============================] - 25s 490us/step - loss: 0.7883 - acc: 0.7241\n",
      "Epoch 17/25\n",
      "50000/50000 [==============================] - 25s 490us/step - loss: 0.7648 - acc: 0.7315\n",
      "Epoch 18/25\n",
      "50000/50000 [==============================] - 24s 489us/step - loss: 0.7411 - acc: 0.7397\n",
      "Epoch 19/25\n",
      "50000/50000 [==============================] - 24s 488us/step - loss: 0.7224 - acc: 0.7485\n",
      "Epoch 20/25\n",
      "50000/50000 [==============================] - 24s 488us/step - loss: 0.7020 - acc: 0.7554\n",
      "Epoch 21/25\n",
      "50000/50000 [==============================] - 24s 488us/step - loss: 0.6916 - acc: 0.75759s - loss: 0.6 - ETA: 0s - loss: 0.6908 - acc: 0 - ETA: 0s - loss: 0.6914 - acc: 0.757 - ETA: 0s - loss: 0.6915 - ac\n",
      "Epoch 22/25\n",
      "50000/50000 [==============================] - 24s 488us/step - loss: 0.6733 - acc: 0.76290s - loss: 0.6733 - acc: 0.762\n",
      "Epoch 23/25\n",
      "50000/50000 [==============================] - 24s 488us/step - loss: 0.6603 - acc: 0.7685\n",
      "Epoch 24/25\n",
      "50000/50000 [==============================] - 24s 488us/step - loss: 0.6396 - acc: 0.7756\n",
      "Epoch 25/25\n",
      "50000/50000 [==============================] - 24s 489us/step - loss: 0.6323 - acc: 0.77646s - \n"
     ]
    },
    {
     "data": {
      "text/plain": [
       "<keras.callbacks.History at 0x1925f99fc48>"
      ]
     },
     "execution_count": 6,
     "metadata": {},
     "output_type": "execute_result"
    }
   ],
   "source": [
    "model4 = Sequential()\n",
    "model4.add(Convolution2D(32, (3, 3),input_shape=(32,32,3)))\n",
    "model4.add(Convolution2D(32, (3,3), activation = 'relu'))\n",
    "model4.add(MaxPooling2D((2,2)))\n",
    "model4.add(Dropout(0.25))\n",
    "model4.add(Convolution2D(64,(3,3), activation = 'relu'))\n",
    "model4.add(Convolution2D(64,(3,3), activation = 'relu'))\n",
    "model4.add(MaxPooling2D((2,2)))\n",
    "model4.add(Dropout(0.25))\n",
    "model4.add(Flatten())\n",
    "#Quantity of outputs after flattening\n",
    "model4.add(Dense(64*8,activation = 'relu'))\n",
    "model4.add(Dropout(0.5))\n",
    "#Number of different classes i.e. airplane, dog etc.\n",
    "model4.add(Dense(10, activation = 'softmax'))\n",
    "\n",
    "opt = keras.optimizers.Adam(lr=0.0001, decay=1e-6)\n",
    "model4.compile(optimizer=opt, loss='categorical_crossentropy', metrics=['accuracy'])\n",
    "model4.fit(x_train, y_train, batch_size=32, epochs=25 , shuffle=True, verbose=1)\n"
   ]
  },
  {
   "cell_type": "code",
   "execution_count": 9,
   "metadata": {},
   "outputs": [
    {
     "name": "stdout",
     "output_type": "stream",
     "text": [
      "10000/10000 [==============================] - 2s 168us/step\n"
     ]
    }
   ],
   "source": [
    "scores4 = model4.evaluate(x_test, y_test, verbose=1)\n",
    "scores4[1] \n",
    "\n",
    "model4.save(\"model_4_\"+str(scores4[1])+\"_%_underfitted\")"
   ]
  },
  {
   "cell_type": "code",
   "execution_count": 10,
   "metadata": {},
   "outputs": [
    {
     "data": {
      "text/plain": [
       "0.7647"
      ]
     },
     "execution_count": 10,
     "metadata": {},
     "output_type": "execute_result"
    }
   ],
   "source": [
    "scores4[1]"
   ]
  },
  {
   "cell_type": "code",
   "execution_count": 14,
   "metadata": {},
   "outputs": [
    {
     "name": "stdout",
     "output_type": "stream",
     "text": [
      "Epoch 1/25\n",
      "50000/50000 [==============================] - 33s 668us/step - loss: 1.8313 - acc: 0.3246\n",
      "Epoch 2/25\n",
      "50000/50000 [==============================] - 25s 502us/step - loss: 1.5029 - acc: 0.4543\n",
      "Epoch 3/25\n",
      "50000/50000 [==============================] - 25s 499us/step - loss: 1.3666 - acc: 0.5087\n",
      "Epoch 4/25\n",
      "50000/50000 [==============================] - 26s 519us/step - loss: 1.2768 - acc: 0.5461\n",
      "Epoch 5/25\n",
      "50000/50000 [==============================] - 27s 532us/step - loss: 1.2023 - acc: 0.5752\n",
      "Epoch 6/25\n",
      "50000/50000 [==============================] - 26s 512us/step - loss: 1.1438 - acc: 0.5964\n",
      "Epoch 7/25\n",
      "50000/50000 [==============================] - 25s 498us/step - loss: 1.0887 - acc: 0.6170\n",
      "Epoch 8/25\n",
      "50000/50000 [==============================] - 26s 519us/step - loss: 1.0412 - acc: 0.6322\n",
      "Epoch 9/25\n",
      "50000/50000 [==============================] - 26s 514us/step - loss: 1.0021 - acc: 0.6481\n",
      "Epoch 10/25\n",
      "50000/50000 [==============================] - 26s 525us/step - loss: 0.9663 - acc: 0.6624\n",
      "Epoch 11/25\n",
      "50000/50000 [==============================] - 28s 568us/step - loss: 0.9262 - acc: 0.6746\n",
      "Epoch 12/25\n",
      "50000/50000 [==============================] - 25s 506us/step - loss: 0.9014 - acc: 0.6837\n",
      "Epoch 13/25\n",
      "50000/50000 [==============================] - 25s 510us/step - loss: 0.8705 - acc: 0.6937\n",
      "Epoch 14/25\n",
      "50000/50000 [==============================] - 25s 506us/step - loss: 0.8449 - acc: 0.7042\n",
      "Epoch 15/25\n",
      "50000/50000 [==============================] - 25s 499us/step - loss: 0.8179 - acc: 0.7153\n",
      "Epoch 16/25\n",
      "50000/50000 [==============================] - 25s 505us/step - loss: 0.7969 - acc: 0.7230\n",
      "Epoch 17/25\n",
      "50000/50000 [==============================] - 25s 507us/step - loss: 0.7766 - acc: 0.72911s - loss: 0.\n",
      "Epoch 18/25\n",
      "50000/50000 [==============================] - 25s 508us/step - loss: 0.7570 - acc: 0.7353\n",
      "Epoch 19/25\n",
      "50000/50000 [==============================] - 26s 510us/step - loss: 0.7360 - acc: 0.74261s - loss\n",
      "Epoch 20/25\n",
      "50000/50000 [==============================] - 25s 502us/step - loss: 0.7242 - acc: 0.7475\n",
      "Epoch 21/25\n",
      "50000/50000 [==============================] - 25s 498us/step - loss: 0.7037 - acc: 0.7535\n",
      "Epoch 22/25\n",
      "50000/50000 [==============================] - 25s 505us/step - loss: 0.6884 - acc: 0.7592\n",
      "Epoch 23/25\n",
      "50000/50000 [==============================] - 25s 504us/step - loss: 0.6719 - acc: 0.7663\n",
      "Epoch 24/25\n",
      "50000/50000 [==============================] - 25s 496us/step - loss: 0.6559 - acc: 0.7696\n",
      "Epoch 25/25\n",
      "50000/50000 [==============================] - 25s 498us/step - loss: 0.6406 - acc: 0.7763\n"
     ]
    },
    {
     "data": {
      "text/plain": [
       "<keras.callbacks.History at 0x1927276e8c8>"
      ]
     },
     "execution_count": 14,
     "metadata": {},
     "output_type": "execute_result"
    }
   ],
   "source": [
    "model5 = Sequential()\n",
    "model5.add(Convolution2D(32, (3, 3),input_shape=(32,32,3)))\n",
    "model5.add(Convolution2D(32, (3,3), activation = 'relu'))\n",
    "model5.add(MaxPooling2D((2,2)))\n",
    "model5.add(Dropout(0.25))\n",
    "model5.add(Convolution2D(64,(3,3), activation = 'relu'))\n",
    "model5.add(Convolution2D(64,(3,3), activation = 'relu'))\n",
    "model5.add(MaxPooling2D((2,2)))\n",
    "model5.add(Dropout(0.25))\n",
    "model5.add(Flatten())\n",
    "#Quantity of outputs after flattening\n",
    "model5.add(Dense(64*8,activation = 'relu'))\n",
    "model5.add(Dropout(0.5))\n",
    "#Number of different classes i.e. airplane, dog etc.\n",
    "model5.add(Dense(10, activation = 'softmax'))\n",
    "\n",
    "opt = keras.optimizers.Adam(lr=0.0001, decay=1e-6)\n",
    "model5.compile(optimizer=opt, loss='categorical_crossentropy', metrics=['accuracy'])\n",
    "\n",
    "datagen = ImageDataGenerator(\n",
    "        featurewise_center=False,  # set input mean to 0 over the dataset\n",
    "        samplewise_center=False,  # set each sample mean to 0\n",
    "        featurewise_std_normalization=False,  # divide inputs by std of the dataset\n",
    "        samplewise_std_normalization=False,  # divide each input by its std\n",
    "        zca_whitening=False,  # apply ZCA whitening\n",
    "        zca_epsilon=1e-06,  # epsilon for ZCA whitening\n",
    "        rotation_range=0,  # randomly rotate images in the range (degrees, 0 to 180)\n",
    "        # randomly shift images horizontally (fraction of total width)\n",
    "        width_shift_range=0.1,\n",
    "        # randomly shift images vertically (fraction of total height)\n",
    "        height_shift_range=0.1,\n",
    "        shear_range=0.,  # set range for random shear\n",
    "        zoom_range=0.,  # set range for random zoom\n",
    "        channel_shift_range=0.1,  # set range for random channel shifts\n",
    "        # set mode for filling points outside the input boundaries\n",
    "        fill_mode='nearest',\n",
    "        cval=0.,  # value used for fill_mode = \"constant\"\n",
    "        horizontal_flip=True,  # randomly flip images\n",
    "        vertical_flip=False,  # randomly flip images\n",
    "        # set rescaling factor (applied before any other transformation)\n",
    "        rescale=None,\n",
    "        # set function that will be applied on each input\n",
    "        preprocessing_function=None,\n",
    "        # image data format, either \"channels_first\" or \"channels_last\"\n",
    "        data_format=None,\n",
    "        # fraction of images reserved for validation (strictly between 0 and 1)\n",
    "        validation_split=0.0)\n",
    "\n",
    "datagen.fit(x_train)\n",
    "\n",
    "model5.fit(x_train, y_train, batch_size=32, epochs=25 , shuffle=True, verbose=1)"
   ]
  },
  {
   "cell_type": "code",
   "execution_count": 15,
   "metadata": {},
   "outputs": [
    {
     "name": "stdout",
     "output_type": "stream",
     "text": [
      "10000/10000 [==============================] - 2s 207us/step\n"
     ]
    },
    {
     "data": {
      "text/plain": [
       "0.7594"
      ]
     },
     "execution_count": 15,
     "metadata": {},
     "output_type": "execute_result"
    }
   ],
   "source": [
    "scores5 = model5.evaluate(x_test, y_test, verbose=1)\n",
    "\n",
    "model5.save(\"model_5_\"+str(scores5[1])+\"_%_underfitted_ImageGeneratorWithChannelChange\")\n",
    "\n",
    "scores5[1] "
   ]
  },
  {
   "cell_type": "code",
   "execution_count": 17,
   "metadata": {},
   "outputs": [
    {
     "name": "stdout",
     "output_type": "stream",
     "text": [
      "Epoch 1/25\n",
      "50000/50000 [==============================] - 39s 780us/step - loss: 1.8156 - acc: 0.3272\n",
      "Epoch 2/25\n",
      "50000/50000 [==============================] - 27s 539us/step - loss: 1.4748 - acc: 0.4632\n",
      "Epoch 3/25\n",
      "50000/50000 [==============================] - 28s 570us/step - loss: 1.3410 - acc: 0.5179\n",
      "Epoch 4/25\n",
      "50000/50000 [==============================] - 25s 504us/step - loss: 1.2546 - acc: 0.5529\n",
      "Epoch 5/25\n",
      "50000/50000 [==============================] - 25s 505us/step - loss: 1.1791 - acc: 0.5827\n",
      "Epoch 6/25\n",
      "50000/50000 [==============================] - 25s 510us/step - loss: 1.1189 - acc: 0.6042\n",
      "Epoch 7/25\n",
      "50000/50000 [==============================] - 26s 511us/step - loss: 1.0641 - acc: 0.62510s - loss: 1.064\n",
      "Epoch 8/25\n",
      "50000/50000 [==============================] - 26s 526us/step - loss: 1.0222 - acc: 0.6410\n",
      "Epoch 9/25\n",
      "50000/50000 [==============================] - 26s 525us/step - loss: 0.9854 - acc: 0.6540\n",
      "Epoch 10/25\n",
      "50000/50000 [==============================] - 26s 522us/step - loss: 0.9461 - acc: 0.6689\n",
      "Epoch 11/25\n",
      "50000/50000 [==============================] - 26s 521us/step - loss: 0.9100 - acc: 0.68160s - loss: 0.9097 \n",
      "Epoch 12/25\n",
      "50000/50000 [==============================] - 26s 527us/step - loss: 0.8849 - acc: 0.6893\n",
      "Epoch 13/25\n",
      "50000/50000 [==============================] - 26s 521us/step - loss: 0.8557 - acc: 0.6991\n",
      "Epoch 14/25\n",
      "50000/50000 [==============================] - 26s 522us/step - loss: 0.8299 - acc: 0.7116\n",
      "Epoch 15/25\n",
      "50000/50000 [==============================] - 26s 522us/step - loss: 0.8040 - acc: 0.7177\n",
      "Epoch 16/25\n",
      "50000/50000 [==============================] - 26s 522us/step - loss: 0.7829 - acc: 0.7255\n",
      "Epoch 17/25\n",
      "50000/50000 [==============================] - 26s 521us/step - loss: 0.7580 - acc: 0.7340\n",
      "Epoch 18/25\n",
      "50000/50000 [==============================] - 26s 522us/step - loss: 0.7393 - acc: 0.7407\n",
      "Epoch 19/25\n",
      "50000/50000 [==============================] - 26s 523us/step - loss: 0.7215 - acc: 0.7477\n",
      "Epoch 20/25\n",
      "50000/50000 [==============================] - 26s 524us/step - loss: 0.7048 - acc: 0.7524\n",
      "Epoch 21/25\n",
      "50000/50000 [==============================] - 26s 522us/step - loss: 0.6850 - acc: 0.7583\n",
      "Epoch 22/25\n",
      "50000/50000 [==============================] - 26s 522us/step - loss: 0.6686 - acc: 0.7671\n",
      "Epoch 23/25\n",
      "50000/50000 [==============================] - 26s 522us/step - loss: 0.6538 - acc: 0.7694\n",
      "Epoch 24/25\n",
      "50000/50000 [==============================] - 26s 523us/step - loss: 0.6389 - acc: 0.7752\n",
      "Epoch 25/25\n",
      "50000/50000 [==============================] - 26s 520us/step - loss: 0.6264 - acc: 0.78071s - lo\n",
      "10000/10000 [==============================] - 6s 625us/step\n"
     ]
    },
    {
     "data": {
      "text/plain": [
       "0.771"
      ]
     },
     "execution_count": 17,
     "metadata": {},
     "output_type": "execute_result"
    }
   ],
   "source": [
    "model6 = Sequential()\n",
    "model6.add(Convolution2D(32, (3, 3),input_shape=(32,32,3)))\n",
    "model6.add(Convolution2D(32, (3,3), activation = 'relu'))\n",
    "model6.add(MaxPooling2D((2,2)))\n",
    "model6.add(Dropout(0.25))\n",
    "model6.add(Convolution2D(64,(3,3), activation = 'relu'))\n",
    "model6.add(Convolution2D(64,(3,3), activation = 'relu'))\n",
    "model6.add(MaxPooling2D((2,2)))\n",
    "model6.add(Dropout(0.25))\n",
    "model6.add(Flatten())\n",
    "#Quantity of outputs after flattening\n",
    "model6.add(Dense(64*8,activation = 'relu'))\n",
    "model6.add(Dropout(0.5))\n",
    "#Number of different classes i.e. airplane, dog etc.\n",
    "model6.add(Dense(10, activation = 'softmax'))\n",
    "\n",
    "opt = keras.optimizers.Adam(lr=0.0001, decay=1e-6)\n",
    "model6.compile(optimizer=opt, loss='categorical_crossentropy', metrics=['accuracy'])\n",
    "\n",
    "datagen = ImageDataGenerator(\n",
    "        featurewise_center=False,  # set input mean to 0 over the dataset\n",
    "        samplewise_center=False,  # set each sample mean to 0\n",
    "        featurewise_std_normalization=False,  # divide inputs by std of the dataset\n",
    "        samplewise_std_normalization=False,  # divide each input by its std\n",
    "        zca_whitening=False,  # apply ZCA whitening\n",
    "        zca_epsilon=1e-06,  # epsilon for ZCA whitening\n",
    "        rotation_range=0,  # randomly rotate images in the range (degrees, 0 to 180)\n",
    "        # randomly shift images horizontally (fraction of total width)\n",
    "        width_shift_range=0.1,\n",
    "        # randomly shift images vertically (fraction of total height)\n",
    "        height_shift_range=0.1,\n",
    "        shear_range=0.,  # set range for random shear\n",
    "        zoom_range=0.,  # set range for random zoom\n",
    "        channel_shift_range=0.1,  # set range for random channel shifts\n",
    "        # set mode for filling points outside the input boundaries\n",
    "        fill_mode='nearest',\n",
    "        cval=0.,  # value used for fill_mode = \"constant\"\n",
    "        horizontal_flip=True,  # randomly flip images\n",
    "        vertical_flip=False,  # randomly flip images\n",
    "        # set rescaling factor (applied before any other transformation)\n",
    "        rescale=None,\n",
    "        # set function that will be applied on each input\n",
    "        preprocessing_function=None,\n",
    "        # image data format, either \"channels_first\" or \"channels_last\"\n",
    "        data_format=None,\n",
    "        # fraction of images reserved for validation (strictly between 0 and 1)\n",
    "        validation_split=0.0)\n",
    "\n",
    "datagen.fit(x_train)\n",
    "\n",
    "model6.fit(x_train, y_train, batch_size=32, epochs=25 , shuffle=True, verbose=1)\n",
    "\n",
    "scores6 = model6.evaluate(x_test, y_test, verbose=1)\n",
    "\n",
    "model6.save(\"model_6_\"+str(scores6[1])+\"_%_underfitted_ImageGeneratorWithoutChannelChange\")\n",
    "\n",
    "scores6[1] "
   ]
  },
  {
   "cell_type": "code",
   "execution_count": 19,
   "metadata": {},
   "outputs": [
    {
     "name": "stdout",
     "output_type": "stream",
     "text": [
      "Epoch 1/50\n",
      "50000/50000 [==============================] - 38s 769us/step - loss: 1.7845 - acc: 0.3409\n",
      "Epoch 2/50\n",
      "50000/50000 [==============================] - 25s 499us/step - loss: 1.4598 - acc: 0.47131s - loss:\n",
      "Epoch 3/50\n",
      "50000/50000 [==============================] - 25s 499us/step - loss: 1.3424 - acc: 0.5181\n",
      "Epoch 4/50\n",
      "50000/50000 [==============================] - 25s 498us/step - loss: 1.2546 - acc: 0.5524\n",
      "Epoch 5/50\n",
      "50000/50000 [==============================] - 25s 500us/step - loss: 1.1877 - acc: 0.5828\n",
      "Epoch 6/50\n",
      "50000/50000 [==============================] - 25s 499us/step - loss: 1.1282 - acc: 0.6028\n",
      "Epoch 7/50\n",
      "50000/50000 [==============================] - 25s 498us/step - loss: 1.0795 - acc: 0.6194\n",
      "Epoch 8/50\n",
      "50000/50000 [==============================] - 25s 498us/step - loss: 1.0348 - acc: 0.6374\n",
      "Epoch 9/50\n",
      "50000/50000 [==============================] - 25s 498us/step - loss: 0.9964 - acc: 0.6518\n",
      "Epoch 10/50\n",
      "50000/50000 [==============================] - 25s 500us/step - loss: 0.9646 - acc: 0.6623\n",
      "Epoch 11/50\n",
      "50000/50000 [==============================] - 25s 499us/step - loss: 0.9352 - acc: 0.6729\n",
      "Epoch 12/50\n",
      "50000/50000 [==============================] - 25s 498us/step - loss: 0.9034 - acc: 0.6830\n",
      "Epoch 13/50\n",
      "50000/50000 [==============================] - 25s 500us/step - loss: 0.8808 - acc: 0.6918\n",
      "Epoch 14/50\n",
      "50000/50000 [==============================] - 25s 498us/step - loss: 0.8512 - acc: 0.7022\n",
      "Epoch 15/50\n",
      "50000/50000 [==============================] - 25s 498us/step - loss: 0.8255 - acc: 0.7100\n",
      "Epoch 16/50\n",
      "50000/50000 [==============================] - 25s 499us/step - loss: 0.8054 - acc: 0.7173\n",
      "Epoch 17/50\n",
      "50000/50000 [==============================] - 25s 499us/step - loss: 0.7816 - acc: 0.7264\n",
      "Epoch 18/50\n",
      "50000/50000 [==============================] - 25s 499us/step - loss: 0.7634 - acc: 0.7321\n",
      "Epoch 19/50\n",
      "50000/50000 [==============================] - 25s 497us/step - loss: 0.7451 - acc: 0.7381\n",
      "Epoch 20/50\n",
      "50000/50000 [==============================] - 25s 497us/step - loss: 0.7229 - acc: 0.7467\n",
      "Epoch 21/50\n",
      "50000/50000 [==============================] - 25s 498us/step - loss: 0.7102 - acc: 0.7519\n",
      "Epoch 22/50\n",
      "50000/50000 [==============================] - 25s 498us/step - loss: 0.6898 - acc: 0.7581\n",
      "Epoch 23/50\n",
      "50000/50000 [==============================] - 25s 498us/step - loss: 0.6743 - acc: 0.7631\n",
      "Epoch 24/50\n",
      "50000/50000 [==============================] - 25s 498us/step - loss: 0.6592 - acc: 0.7670\n",
      "Epoch 25/50\n",
      "50000/50000 [==============================] - 25s 498us/step - loss: 0.6422 - acc: 0.7723\n",
      "Epoch 26/50\n",
      "50000/50000 [==============================] - 25s 497us/step - loss: 0.6330 - acc: 0.7785\n",
      "Epoch 27/50\n",
      "50000/50000 [==============================] - 25s 498us/step - loss: 0.6196 - acc: 0.78041s - loss: 0\n",
      "Epoch 28/50\n",
      "50000/50000 [==============================] - 25s 498us/step - loss: 0.6061 - acc: 0.78650s - loss: 0.6063 - a\n",
      "Epoch 29/50\n",
      "50000/50000 [==============================] - 25s 499us/step - loss: 0.5929 - acc: 0.7921\n",
      "Epoch 30/50\n",
      "50000/50000 [==============================] - 25s 497us/step - loss: 0.5778 - acc: 0.7966\n",
      "Epoch 31/50\n",
      "50000/50000 [==============================] - 25s 497us/step - loss: 0.5662 - acc: 0.8016\n",
      "Epoch 32/50\n",
      "50000/50000 [==============================] - 25s 498us/step - loss: 0.5544 - acc: 0.8031\n",
      "Epoch 33/50\n",
      "50000/50000 [==============================] - 25s 497us/step - loss: 0.5415 - acc: 0.8084\n",
      "Epoch 34/50\n",
      "50000/50000 [==============================] - 25s 498us/step - loss: 0.5321 - acc: 0.8110\n",
      "Epoch 35/50\n",
      "50000/50000 [==============================] - 25s 499us/step - loss: 0.5234 - acc: 0.8150\n",
      "Epoch 36/50\n",
      "50000/50000 [==============================] - 25s 502us/step - loss: 0.5142 - acc: 0.8193\n",
      "Epoch 37/50\n",
      "50000/50000 [==============================] - 25s 504us/step - loss: 0.5017 - acc: 0.8223\n",
      "Epoch 38/50\n",
      "50000/50000 [==============================] - 25s 506us/step - loss: 0.4940 - acc: 0.8255\n",
      "Epoch 39/50\n",
      "50000/50000 [==============================] - 25s 504us/step - loss: 0.4794 - acc: 0.8331\n",
      "Epoch 40/50\n",
      "50000/50000 [==============================] - 25s 503us/step - loss: 0.4826 - acc: 0.8290\n",
      "Epoch 41/50\n",
      "50000/50000 [==============================] - 25s 500us/step - loss: 0.4700 - acc: 0.8320\n",
      "Epoch 42/50\n",
      "50000/50000 [==============================] - 25s 500us/step - loss: 0.4607 - acc: 0.8374\n",
      "Epoch 43/50\n",
      "50000/50000 [==============================] - 25s 500us/step - loss: 0.4516 - acc: 0.8388\n",
      "Epoch 44/50\n",
      "50000/50000 [==============================] - 25s 502us/step - loss: 0.4441 - acc: 0.8419\n",
      "Epoch 45/50\n",
      "50000/50000 [==============================] - 25s 501us/step - loss: 0.4361 - acc: 0.8439\n",
      "Epoch 46/50\n",
      "50000/50000 [==============================] - 25s 496us/step - loss: 0.4280 - acc: 0.8482\n",
      "Epoch 47/50\n",
      "50000/50000 [==============================] - 25s 496us/step - loss: 0.4239 - acc: 0.8488\n",
      "Epoch 48/50\n",
      "50000/50000 [==============================] - 26s 530us/step - loss: 0.4184 - acc: 0.8512\n",
      "Epoch 49/50\n",
      "50000/50000 [==============================] - 25s 506us/step - loss: 0.4120 - acc: 0.8526\n",
      "Epoch 50/50\n",
      "50000/50000 [==============================] - 25s 508us/step - loss: 0.4058 - acc: 0.8556\n",
      "10000/10000 [==============================] - 6s 624us/step\n"
     ]
    },
    {
     "data": {
      "text/plain": [
       "0.7833"
      ]
     },
     "execution_count": 19,
     "metadata": {},
     "output_type": "execute_result"
    }
   ],
   "source": [
    "model7 = Sequential()\n",
    "model7.add(Convolution2D(32, (3, 3),input_shape=(32,32,3)))\n",
    "model7.add(Convolution2D(32, (3,3), activation = 'relu'))\n",
    "model7.add(MaxPooling2D((2,2)))\n",
    "model7.add(Dropout(0.25))\n",
    "model7.add(Convolution2D(64,(3,3), activation = 'relu'))\n",
    "model7.add(Convolution2D(64,(3,3), activation = 'relu'))\n",
    "model7.add(MaxPooling2D((2,2)))\n",
    "model7.add(Dropout(0.25))\n",
    "model7.add(Flatten())\n",
    "#Quantity of outputs after flattening\n",
    "model7.add(Dense(64*8,activation = 'relu'))\n",
    "model7.add(Dropout(0.5))\n",
    "#Number of different classes i.e. airplane, dog etc.\n",
    "model7.add(Dense(10, activation = 'softmax'))\n",
    "\n",
    "opt = keras.optimizers.Adam(lr=0.0001, decay=1e-6)\n",
    "model7.compile(optimizer=opt, loss='categorical_crossentropy', metrics=['accuracy'])\n",
    "\n",
    "datagen = ImageDataGenerator(\n",
    "        featurewise_center=False,  # set input mean to 0 over the dataset\n",
    "        samplewise_center=False,  # set each sample mean to 0\n",
    "        featurewise_std_normalization=False,  # divide inputs by std of the dataset\n",
    "        samplewise_std_normalization=False,  # divide each input by its std\n",
    "        zca_whitening=False,  # apply ZCA whitening\n",
    "        zca_epsilon=1e-06,  # epsilon for ZCA whitening\n",
    "        rotation_range=0,  # randomly rotate images in the range (degrees, 0 to 180)\n",
    "        # randomly shift images horizontally (fraction of total width)\n",
    "        width_shift_range=0.1,\n",
    "        # randomly shift images vertically (fraction of total height)\n",
    "        height_shift_range=0.1,\n",
    "        shear_range=0.,  # set range for random shear\n",
    "        zoom_range=0.,  # set range for random zoom\n",
    "        channel_shift_range=0.1,  # set range for random channel shifts\n",
    "        # set mode for filling points outside the input boundaries\n",
    "        fill_mode='nearest',\n",
    "        cval=0.,  # value used for fill_mode = \"constant\"\n",
    "        horizontal_flip=True,  # randomly flip images\n",
    "        vertical_flip=False,  # randomly flip images\n",
    "        # set rescaling factor (applied before any other transformation)\n",
    "        rescale=None,\n",
    "        # set function that will be applied on each input\n",
    "        preprocessing_function=None,\n",
    "        # image data format, either \"channels_first\" or \"channels_last\"\n",
    "        data_format=None,\n",
    "        # fraction of images reserved for validation (strictly between 0 and 1)\n",
    "        validation_split=0.0)\n",
    "\n",
    "datagen.fit(x_train)\n",
    "\n",
    "model7.fit(x_train, y_train, batch_size=32, epochs=50 , shuffle=True, verbose=1)\n",
    "\n",
    "scores7 = model7.evaluate(x_test, y_test, verbose=1)\n",
    "\n",
    "model7.save(\"model_6_\"+str(scores7[1])+\"_%_50Epochs_ImageGeneratorWithoutChannelChange\")\n",
    "\n",
    "scores7[1] \n"
   ]
  },
  {
   "cell_type": "code",
   "execution_count": 20,
   "metadata": {},
   "outputs": [
    {
     "name": "stdout",
     "output_type": "stream",
     "text": [
      "Epoch 1/50\n",
      "50000/50000 [==============================] - 42s 843us/step - loss: 1.8464 - acc: 0.3182\n",
      "Epoch 2/50\n",
      "50000/50000 [==============================] - 28s 556us/step - loss: 1.5056 - acc: 0.4524\n",
      "Epoch 3/50\n",
      "50000/50000 [==============================] - 28s 566us/step - loss: 1.3648 - acc: 0.5099\n",
      "Epoch 4/50\n",
      "50000/50000 [==============================] - 29s 579us/step - loss: 1.2698 - acc: 0.5480\n",
      "Epoch 5/50\n",
      "50000/50000 [==============================] - 29s 579us/step - loss: 1.1940 - acc: 0.5773\n",
      "Epoch 6/50\n",
      "50000/50000 [==============================] - 29s 584us/step - loss: 1.1322 - acc: 0.6028\n",
      "Epoch 7/50\n",
      "50000/50000 [==============================] - 28s 562us/step - loss: 1.0770 - acc: 0.6222\n",
      "Epoch 8/50\n",
      "50000/50000 [==============================] - 28s 553us/step - loss: 1.0259 - acc: 0.6384\n",
      "Epoch 9/50\n",
      "50000/50000 [==============================] - 28s 560us/step - loss: 0.9845 - acc: 0.6554\n",
      "Epoch 10/50\n",
      "50000/50000 [==============================] - 28s 562us/step - loss: 0.9433 - acc: 0.6705\n",
      "Epoch 11/50\n",
      "50000/50000 [==============================] - 28s 558us/step - loss: 0.9087 - acc: 0.6828\n",
      "Epoch 12/50\n",
      "50000/50000 [==============================] - 28s 563us/step - loss: 0.8809 - acc: 0.6923\n",
      "Epoch 13/50\n",
      "50000/50000 [==============================] - 28s 559us/step - loss: 0.8467 - acc: 0.7028\n",
      "Epoch 14/50\n",
      "50000/50000 [==============================] - 28s 561us/step - loss: 0.8222 - acc: 0.7148\n",
      "Epoch 15/50\n",
      "50000/50000 [==============================] - 28s 557us/step - loss: 0.7942 - acc: 0.7219\n",
      "Epoch 16/50\n",
      "50000/50000 [==============================] - 29s 571us/step - loss: 0.7742 - acc: 0.7302\n",
      "Epoch 17/50\n",
      "50000/50000 [==============================] - 28s 569us/step - loss: 0.7529 - acc: 0.7385\n",
      "Epoch 18/50\n",
      "50000/50000 [==============================] - 29s 581us/step - loss: 0.7365 - acc: 0.7437\n",
      "Epoch 19/50\n",
      "50000/50000 [==============================] - 28s 559us/step - loss: 0.7125 - acc: 0.7495\n",
      "Epoch 20/50\n",
      "50000/50000 [==============================] - 28s 556us/step - loss: 0.6964 - acc: 0.7559\n",
      "Epoch 21/50\n",
      "50000/50000 [==============================] - 28s 566us/step - loss: 0.6785 - acc: 0.7623\n",
      "Epoch 22/50\n",
      "50000/50000 [==============================] - 28s 558us/step - loss: 0.6658 - acc: 0.7655\n",
      "Epoch 23/50\n",
      "50000/50000 [==============================] - 28s 558us/step - loss: 0.6541 - acc: 0.7698\n",
      "Epoch 24/50\n",
      "50000/50000 [==============================] - 29s 571us/step - loss: 0.6330 - acc: 0.7793\n",
      "Epoch 25/50\n",
      "50000/50000 [==============================] - 29s 584us/step - loss: 0.6233 - acc: 0.7817\n",
      "Epoch 26/50\n",
      "50000/50000 [==============================] - 30s 597us/step - loss: 0.6106 - acc: 0.7858\n",
      "Epoch 27/50\n",
      "50000/50000 [==============================] - 30s 609us/step - loss: 0.5921 - acc: 0.7925\n",
      "Epoch 28/50\n",
      "50000/50000 [==============================] - 30s 593us/step - loss: 0.5802 - acc: 0.7977\n",
      "Epoch 29/50\n",
      "50000/50000 [==============================] - 28s 564us/step - loss: 0.5749 - acc: 0.7974\n",
      "Epoch 30/50\n",
      "50000/50000 [==============================] - 29s 576us/step - loss: 0.5622 - acc: 0.8020\n",
      "Epoch 31/50\n",
      "50000/50000 [==============================] - 28s 560us/step - loss: 0.5469 - acc: 0.80730s - loss: 0.5477 - acc: 0.\n",
      "Epoch 32/50\n",
      "50000/50000 [==============================] - 28s 569us/step - loss: 0.5369 - acc: 0.8113\n",
      "Epoch 33/50\n",
      "50000/50000 [==============================] - 28s 559us/step - loss: 0.5269 - acc: 0.8139\n",
      "Epoch 34/50\n",
      "50000/50000 [==============================] - 28s 563us/step - loss: 0.5220 - acc: 0.8167\n",
      "Epoch 35/50\n",
      "50000/50000 [==============================] - 29s 570us/step - loss: 0.5152 - acc: 0.8187\n",
      "Epoch 36/50\n",
      "50000/50000 [==============================] - 30s 599us/step - loss: 0.5002 - acc: 0.8230\n",
      "Epoch 37/50\n",
      "50000/50000 [==============================] - 29s 575us/step - loss: 0.4896 - acc: 0.8257\n",
      "Epoch 38/50\n",
      "50000/50000 [==============================] - 29s 576us/step - loss: 0.4779 - acc: 0.8308\n",
      "Epoch 39/50\n",
      "50000/50000 [==============================] - 29s 580us/step - loss: 0.4747 - acc: 0.8307\n",
      "Epoch 40/50\n",
      "50000/50000 [==============================] - 28s 554us/step - loss: 0.4675 - acc: 0.8317\n",
      "Epoch 41/50\n",
      "50000/50000 [==============================] - 28s 564us/step - loss: 0.4612 - acc: 0.8376\n",
      "Epoch 42/50\n",
      "50000/50000 [==============================] - 29s 572us/step - loss: 0.4427 - acc: 0.8434\n",
      "Epoch 43/50\n",
      "50000/50000 [==============================] - 29s 571us/step - loss: 0.4421 - acc: 0.8424\n",
      "Epoch 44/50\n",
      "50000/50000 [==============================] - 29s 586us/step - loss: 0.4376 - acc: 0.8460\n",
      "Epoch 45/50\n",
      "50000/50000 [==============================] - 28s 556us/step - loss: 0.4315 - acc: 0.8460\n",
      "Epoch 46/50\n",
      "50000/50000 [==============================] - 28s 557us/step - loss: 0.4157 - acc: 0.8513\n",
      "Epoch 47/50\n",
      "50000/50000 [==============================] - 28s 560us/step - loss: 0.4114 - acc: 0.8531\n",
      "Epoch 48/50\n",
      "50000/50000 [==============================] - 28s 560us/step - loss: 0.4053 - acc: 0.8549\n",
      "Epoch 49/50\n",
      "50000/50000 [==============================] - 28s 564us/step - loss: 0.3987 - acc: 0.8581\n",
      "Epoch 50/50\n",
      "50000/50000 [==============================] - 28s 561us/step - loss: 0.3918 - acc: 0.8584\n",
      "10000/10000 [==============================] - 6s 622us/step\n"
     ]
    },
    {
     "data": {
      "text/plain": [
       "0.7971"
      ]
     },
     "execution_count": 20,
     "metadata": {},
     "output_type": "execute_result"
    }
   ],
   "source": [
    "model8 = Sequential()\n",
    "model8.add(Convolution2D(32, (3, 3),input_shape=(32,32,3)))\n",
    "model8.add(Convolution2D(32, (3,3), activation = 'relu'))\n",
    "model8.add(MaxPooling2D((2,2)))\n",
    "model8.add(Dropout(0.25))\n",
    "model8.add(Convolution2D(64,(3,3), activation = 'relu'))\n",
    "model8.add(Convolution2D(64,(3,3), activation = 'relu'))\n",
    "model8.add(MaxPooling2D((2,2)))\n",
    "model8.add(Dropout(0.25))\n",
    "model8.add(Flatten())\n",
    "#Quantity of outputs after flattening\n",
    "model8.add(Dense(64*8,activation = 'relu'))\n",
    "model8.add(Dropout(0.5))\n",
    "#Number of different classes i.e. airplane, dog etc.\n",
    "model8.add(Dense(10, activation = 'softmax'))\n",
    "\n",
    "opt = keras.optimizers.Adam(lr=0.0001, decay=1e-6)\n",
    "model8.compile(optimizer=opt, loss='categorical_crossentropy', metrics=['accuracy'])\n",
    "\n",
    "datagen = ImageDataGenerator(\n",
    "        featurewise_center=False,  # set input mean to 0 over the dataset\n",
    "        samplewise_center=False,  # set each sample mean to 0\n",
    "        featurewise_std_normalization=False,  # divide inputs by std of the dataset\n",
    "        samplewise_std_normalization=False,  # divide each input by its std\n",
    "        zca_whitening=False,  # apply ZCA whitening\n",
    "        zca_epsilon=1e-06,  # epsilon for ZCA whitening\n",
    "        rotation_range=0,  # randomly rotate images in the range (degrees, 0 to 180)\n",
    "        # randomly shift images horizontally (fraction of total width)\n",
    "        width_shift_range=0.1,\n",
    "        # randomly shift images vertically (fraction of total height)\n",
    "        height_shift_range=0.1,\n",
    "        shear_range=0.,  # set range for random shear\n",
    "        zoom_range=0.,  # set range for random zoom\n",
    "        channel_shift_range=0.,  # set range for random channel shifts\n",
    "        # set mode for filling points outside the input boundaries\n",
    "        fill_mode='nearest',\n",
    "        cval=0.,  # value used for fill_mode = \"constant\"\n",
    "        horizontal_flip=True,  # randomly flip images\n",
    "        vertical_flip=False,  # randomly flip images\n",
    "        # set rescaling factor (applied before any other transformation)\n",
    "        rescale=None,\n",
    "        # set function that will be applied on each input\n",
    "        preprocessing_function=None,\n",
    "        # image data format, either \"channels_first\" or \"channels_last\"\n",
    "        data_format=None,\n",
    "        # fraction of images reserved for validation (strictly between 0 and 1)\n",
    "        validation_split=0.0)\n",
    "\n",
    "datagen.fit(x_train)\n",
    "\n",
    "model8.fit(x_train, y_train, batch_size=32, epochs=50 , shuffle=True, verbose=1)\n",
    "\n",
    "scores8 = model8.evaluate(x_test, y_test, verbose=1)\n",
    "\n",
    "model8.save(\"model_8_\"+str(scores8[1])+\"_%_50Epochs_ImageGeneratorWithoutChannelChange\")\n",
    "\n",
    "scores8[1] \n"
   ]
  },
  {
   "cell_type": "code",
   "execution_count": 22,
   "metadata": {},
   "outputs": [
    {
     "name": "stdout",
     "output_type": "stream",
     "text": [
      "Epoch 1/40\n",
      "50000/50000 [==============================] - 40s 797us/step - loss: 1.7843 - acc: 0.3398\n",
      "Epoch 2/40\n",
      "50000/50000 [==============================] - 26s 526us/step - loss: 1.4595 - acc: 0.4727\n",
      "Epoch 3/40\n",
      "50000/50000 [==============================] - 27s 533us/step - loss: 1.3342 - acc: 0.5233\n",
      "Epoch 4/40\n",
      "50000/50000 [==============================] - 26s 522us/step - loss: 1.2439 - acc: 0.5580\n",
      "Epoch 5/40\n",
      "50000/50000 [==============================] - 26s 517us/step - loss: 1.1697 - acc: 0.5883\n",
      "Epoch 6/40\n",
      "50000/50000 [==============================] - 26s 521us/step - loss: 1.1125 - acc: 0.6091\n",
      "Epoch 7/40\n",
      "50000/50000 [==============================] - 26s 520us/step - loss: 1.0660 - acc: 0.6265\n",
      "Epoch 8/40\n",
      "50000/50000 [==============================] - 26s 514us/step - loss: 1.0174 - acc: 0.6434\n",
      "Epoch 9/40\n",
      "50000/50000 [==============================] - 26s 521us/step - loss: 0.9794 - acc: 0.6561\n",
      "Epoch 10/40\n",
      "50000/50000 [==============================] - 26s 521us/step - loss: 0.9406 - acc: 0.6702\n",
      "Epoch 11/40\n",
      "50000/50000 [==============================] - 26s 514us/step - loss: 0.9068 - acc: 0.6805\n",
      "Epoch 12/40\n",
      "50000/50000 [==============================] - 26s 521us/step - loss: 0.8790 - acc: 0.69330s - loss: 0.\n",
      "Epoch 13/40\n",
      "50000/50000 [==============================] - 26s 522us/step - loss: 0.8475 - acc: 0.7040\n",
      "Epoch 14/40\n",
      "50000/50000 [==============================] - 26s 522us/step - loss: 0.8242 - acc: 0.7119\n",
      "Epoch 15/40\n",
      "50000/50000 [==============================] - 26s 521us/step - loss: 0.8040 - acc: 0.7190\n",
      "Epoch 16/40\n",
      "50000/50000 [==============================] - 26s 514us/step - loss: 0.7803 - acc: 0.7270\n",
      "Epoch 17/40\n",
      "50000/50000 [==============================] - 26s 515us/step - loss: 0.7634 - acc: 0.7341\n",
      "Epoch 18/40\n",
      "50000/50000 [==============================] - 26s 522us/step - loss: 0.7358 - acc: 0.74470s - loss: 0.7359 \n",
      "Epoch 19/40\n",
      "50000/50000 [==============================] - 26s 514us/step - loss: 0.7248 - acc: 0.7458\n",
      "Epoch 20/40\n",
      "50000/50000 [==============================] - 26s 513us/step - loss: 0.7018 - acc: 0.7555\n",
      "Epoch 21/40\n",
      "50000/50000 [==============================] - 26s 521us/step - loss: 0.6833 - acc: 0.75801s - \n",
      "Epoch 22/40\n",
      "50000/50000 [==============================] - 26s 522us/step - loss: 0.6677 - acc: 0.7669\n",
      "Epoch 23/40\n",
      "50000/50000 [==============================] - 26s 520us/step - loss: 0.6546 - acc: 0.7710\n",
      "Epoch 24/40\n",
      "50000/50000 [==============================] - 26s 513us/step - loss: 0.6461 - acc: 0.7727\n",
      "Epoch 25/40\n",
      "50000/50000 [==============================] - 26s 520us/step - loss: 0.6288 - acc: 0.7779\n",
      "Epoch 26/40\n",
      "50000/50000 [==============================] - 26s 513us/step - loss: 0.6131 - acc: 0.7820\n",
      "Epoch 27/40\n",
      "50000/50000 [==============================] - 26s 515us/step - loss: 0.6061 - acc: 0.7873\n",
      "Epoch 28/40\n",
      "50000/50000 [==============================] - 26s 522us/step - loss: 0.5911 - acc: 0.7925\n",
      "Epoch 29/40\n",
      "50000/50000 [==============================] - 26s 512us/step - loss: 0.5808 - acc: 0.7967\n",
      "Epoch 30/40\n",
      "50000/50000 [==============================] - 26s 520us/step - loss: 0.5659 - acc: 0.8017\n",
      "Epoch 31/40\n",
      "50000/50000 [==============================] - 26s 512us/step - loss: 0.5597 - acc: 0.80230s - loss: 0.5\n",
      "Epoch 32/40\n",
      "50000/50000 [==============================] - 26s 521us/step - loss: 0.5447 - acc: 0.8082\n",
      "Epoch 33/40\n",
      "50000/50000 [==============================] - 26s 512us/step - loss: 0.5325 - acc: 0.8129\n",
      "Epoch 34/40\n",
      "50000/50000 [==============================] - 26s 513us/step - loss: 0.5235 - acc: 0.8146\n",
      "Epoch 35/40\n",
      "50000/50000 [==============================] - 26s 520us/step - loss: 0.5110 - acc: 0.8168\n",
      "Epoch 36/40\n",
      "50000/50000 [==============================] - 26s 521us/step - loss: 0.5032 - acc: 0.8234\n",
      "Epoch 37/40\n",
      "50000/50000 [==============================] - 26s 511us/step - loss: 0.4947 - acc: 0.82390s - loss: 0.4947 - acc: 0.823\n",
      "Epoch 38/40\n",
      "50000/50000 [==============================] - 26s 521us/step - loss: 0.4855 - acc: 0.8299\n",
      "Epoch 39/40\n",
      "50000/50000 [==============================] - 26s 521us/step - loss: 0.4791 - acc: 0.8304\n",
      "Epoch 40/40\n",
      "50000/50000 [==============================] - 26s 519us/step - loss: 0.4703 - acc: 0.8340\n",
      "10000/10000 [==============================] - 6s 612us/step\n"
     ]
    },
    {
     "data": {
      "text/plain": [
       "0.7921"
      ]
     },
     "execution_count": 22,
     "metadata": {},
     "output_type": "execute_result"
    }
   ],
   "source": [
    "model9 = Sequential()\n",
    "model9.add(Convolution2D(32, (3, 3),input_shape=(32,32,3)))\n",
    "model9.add(Convolution2D(32, (3,3), activation = 'relu'))\n",
    "model9.add(MaxPooling2D((2,2)))\n",
    "model9.add(Dropout(0.25))\n",
    "model9.add(Convolution2D(64,(3,3), activation = 'relu'))\n",
    "model9.add(Convolution2D(64,(3,3), activation = 'relu'))\n",
    "model9.add(MaxPooling2D((2,2)))\n",
    "model9.add(Dropout(0.25))\n",
    "model9.add(Flatten())\n",
    "#Quantity of outputs after flattening\n",
    "model9.add(Dense(64*8,activation = 'relu'))\n",
    "model9.add(Dropout(0.5))\n",
    "#Number of different classes i.e. airplane, dog etc.\n",
    "model9.add(Dense(10, activation = 'softmax'))\n",
    "\n",
    "opt = keras.optimizers.Adam(lr=0.0001, decay=1e-6)\n",
    "model9.compile(optimizer=opt, loss='categorical_crossentropy', metrics=['accuracy'])\n",
    "\n",
    "datagen = ImageDataGenerator(\n",
    "        featurewise_center=False,  # set input mean to 0 over the dataset\n",
    "        samplewise_center=False,  # set each sample mean to 0\n",
    "        featurewise_std_normalization=False,  # divide inputs by std of the dataset\n",
    "        samplewise_std_normalization=False,  # divide each input by its std\n",
    "        zca_whitening=False,  # apply ZCA whitening\n",
    "        zca_epsilon=1e-06,  # epsilon for ZCA whitening\n",
    "        rotation_range=0,  # randomly rotate images in the range (degrees, 0 to 180)\n",
    "        # randomly shift images horizontally (fraction of total width)\n",
    "        width_shift_range=0.1,\n",
    "        # randomly shift images vertically (fraction of total height)\n",
    "        height_shift_range=0.1,\n",
    "        shear_range=0.,  # set range for random shear\n",
    "        zoom_range=0.,  # set range for random zoom\n",
    "        channel_shift_range=0.03,  # set range for random channel shifts\n",
    "        # set mode for filling points outside the input boundaries\n",
    "        fill_mode='nearest',\n",
    "        cval=0.,  # value used for fill_mode = \"constant\"\n",
    "        horizontal_flip=True,  # randomly flip images\n",
    "        vertical_flip=False,  # randomly flip images\n",
    "        # set rescaling factor (applied before any other transformation)\n",
    "        rescale=None,\n",
    "        # set function that will be applied on each input\n",
    "        preprocessing_function=None,\n",
    "        # image data format, either \"channels_first\" or \"channels_last\"\n",
    "        data_format=None,\n",
    "        # fraction of images reserved for validation (strictly between 0 and 1)\n",
    "        validation_split=0.0)\n",
    "\n",
    "datagen.fit(x_train)\n",
    "\n",
    "model9.fit(x_train, y_train, batch_size=32, epochs=40 , shuffle=True, verbose=1)\n",
    "\n",
    "scores9 = model9.evaluate(x_test, y_test, verbose=1)\n",
    "\n",
    "model9.save(\"model_9_\"+str(scores9[1])+\"_%_40Epochs_SmallChannelChange\")\n",
    "\n",
    "scores9[1] "
   ]
  },
  {
   "cell_type": "code",
   "execution_count": null,
   "metadata": {},
   "outputs": [],
   "source": []
  }
 ],
 "metadata": {
  "kernelspec": {
   "display_name": "Python 3",
   "language": "python",
   "name": "python3"
  },
  "language_info": {
   "codemirror_mode": {
    "name": "ipython",
    "version": 3
   },
   "file_extension": ".py",
   "mimetype": "text/x-python",
   "name": "python",
   "nbconvert_exporter": "python",
   "pygments_lexer": "ipython3",
   "version": "3.7.4"
  }
 },
 "nbformat": 4,
 "nbformat_minor": 2
}
