{
 "cells": [
  {
   "cell_type": "code",
   "execution_count": 1,
   "metadata": {},
   "outputs": [
    {
     "name": "stderr",
     "output_type": "stream",
     "text": [
      "Using plaidml.keras.backend backend.\n"
     ]
    }
   ],
   "source": [
    "import os\n",
    "os.environ[\"KERAS_BACKEND\"] = \"plaidml.keras.backend\"\n",
    "import keras\n",
    "from keras.datasets import cifar10\n",
    "from keras.models import Sequential\n",
    "from keras.layers import Dense, Dropout, Activation, Flatten\n",
    "from keras.layers import Convolution2D, MaxPooling2D\n",
    "from keras.utils import to_categorical"
   ]
  },
  {
   "cell_type": "code",
   "execution_count": 2,
   "metadata": {},
   "outputs": [],
   "source": [
    "(x_train, y_train), (x_test, y_test) = cifar10.load_data()"
   ]
  },
  {
   "cell_type": "code",
   "execution_count": 3,
   "metadata": {},
   "outputs": [
    {
     "name": "stdout",
     "output_type": "stream",
     "text": [
      "(50000, 32, 32, 3)\n",
      "(10000, 32, 32, 3)\n"
     ]
    }
   ],
   "source": [
    "print(x_train.shape)\n",
    "print(x_test.shape)\n"
   ]
  },
  {
   "cell_type": "code",
   "execution_count": 4,
   "metadata": {},
   "outputs": [],
   "source": [
    "y_train = to_categorical(y_train)\n",
    "y_test = to_categorical(y_test)"
   ]
  },
  {
   "cell_type": "code",
   "execution_count": 5,
   "metadata": {},
   "outputs": [],
   "source": [
    "model = Sequential()"
   ]
  },
  {
   "cell_type": "code",
   "execution_count": 6,
   "metadata": {},
   "outputs": [
    {
     "name": "stderr",
     "output_type": "stream",
     "text": [
      "INFO:plaidml:Opening device \"opencl_nvidia_geforce_gtx_970.0\"\n"
     ]
    }
   ],
   "source": [
    "model.add(Convolution2D(32, (3, 3),input_shape=(32,32,3)))\n",
    "model.add(Convolution2D(32, (3,3), activation = 'relu'))\n",
    "model.add(MaxPooling2D((2,2)))\n",
    "model.add(Convolution2D(64,(3,3), activation = 'relu'))\n",
    "model.add(Convolution2D(64,(3,3), activation = 'relu'))\n",
    "model.add(MaxPooling2D((2,2)))\n",
    "model.add(Flatten())\n",
    "#Quantity of outputs after flattening\n",
    "model.add(Dense(64*8,activation = 'relu'))\n",
    "#Number of different classes i.e. airplane, dog etc.\n",
    "model.add(Dense(10, activation = 'softmax'))\n",
    "\n",
    "model.compile(optimizer='rmsprop', loss='categorical_crossentropy', metrics=['accuracy'])"
   ]
  },
  {
   "cell_type": "code",
   "execution_count": 7,
   "metadata": {},
   "outputs": [],
   "source": [
    "x_train = x_train.astype('float32')\n",
    "x_test = x_test.astype('float32')\n",
    "x_train /= 255\n",
    "x_test /= 255"
   ]
  },
  {
   "cell_type": "code",
   "execution_count": 8,
   "metadata": {},
   "outputs": [
    {
     "name": "stdout",
     "output_type": "stream",
     "text": [
      "Epoch 1/10\n",
      "50000/50000 [==============================] - 47s 932us/step - loss: 1.3989 - acc: 0.5021\n",
      "Epoch 2/10\n",
      "50000/50000 [==============================] - 45s 907us/step - loss: 0.9311 - acc: 0.6792\n",
      "Epoch 3/10\n",
      "50000/50000 [==============================] - 44s 889us/step - loss: 0.7744 - acc: 0.7401\n",
      "Epoch 4/10\n",
      "50000/50000 [==============================] - 43s 860us/step - loss: 0.7175 - acc: 0.7604\n",
      "Epoch 5/10\n",
      "50000/50000 [==============================] - 44s 870us/step - loss: 0.6920 - acc: 0.7714\n",
      "Epoch 6/10\n",
      "50000/50000 [==============================] - 43s 867us/step - loss: 0.6794 - acc: 0.7763\n",
      "Epoch 7/10\n",
      "50000/50000 [==============================] - 44s 872us/step - loss: 0.6664 - acc: 0.7824\n",
      "Epoch 8/10\n",
      "50000/50000 [==============================] - 43s 857us/step - loss: 0.6642 - acc: 0.7870\n",
      "Epoch 9/10\n",
      "50000/50000 [==============================] - 43s 861us/step - loss: 0.6499 - acc: 0.7927\n",
      "Epoch 10/10\n",
      "50000/50000 [==============================] - 43s 859us/step - loss: 0.6512 - acc: 0.7921\n"
     ]
    },
    {
     "data": {
      "text/plain": [
       "<keras.callbacks.History at 0x22457f956c8>"
      ]
     },
     "execution_count": 8,
     "metadata": {},
     "output_type": "execute_result"
    }
   ],
   "source": [
    "model.fit(x_train, y_train, batch_size=32, epochs=10 , shuffle=True, verbose=1)"
   ]
  },
  {
   "cell_type": "code",
   "execution_count": 9,
   "metadata": {},
   "outputs": [
    {
     "name": "stdout",
     "output_type": "stream",
     "text": [
      "10000/10000 [==============================] - 6s 592us/step\n"
     ]
    }
   ],
   "source": [
    "scores = model.evaluate(x_test, y_test, verbose=1)"
   ]
  },
  {
   "cell_type": "code",
   "execution_count": 10,
   "metadata": {},
   "outputs": [
    {
     "data": {
      "text/plain": [
       "0.7332"
      ]
     },
     "execution_count": 10,
     "metadata": {},
     "output_type": "execute_result"
    }
   ],
   "source": [
    "scores[1]"
   ]
  },
  {
   "cell_type": "code",
   "execution_count": 11,
   "metadata": {},
   "outputs": [],
   "source": [
    "model.save(\"model_1_\"+str(scores[1])+\"_%_overfitted\")"
   ]
  },
  {
   "cell_type": "code",
   "execution_count": 12,
   "metadata": {},
   "outputs": [],
   "source": [
    "model2 = Sequential()"
   ]
  },
  {
   "cell_type": "code",
   "execution_count": 13,
   "metadata": {},
   "outputs": [
    {
     "name": "stdout",
     "output_type": "stream",
     "text": [
      "Epoch 1/25\n",
      "50000/50000 [==============================] - 63s 1ms/step - loss: 1.5298 - acc: 0.4528\n",
      "Epoch 2/25\n",
      "50000/50000 [==============================] - 43s 867us/step - loss: 1.1417 - acc: 0.6064\n",
      "Epoch 3/25\n",
      "50000/50000 [==============================] - 44s 880us/step - loss: 1.0366 - acc: 0.64812s - loss: 1.0374 - ac\n",
      "Epoch 4/25\n",
      "50000/50000 [==============================] - 44s 877us/step - loss: 1.0271 - acc: 0.6575\n",
      "Epoch 5/25\n",
      "50000/50000 [==============================] - 44s 875us/step - loss: 1.0519 - acc: 0.6550\n",
      "Epoch 6/25\n",
      "50000/50000 [==============================] - 44s 874us/step - loss: 1.0786 - acc: 0.6489\n",
      "Epoch 7/25\n",
      "50000/50000 [==============================] - 44s 871us/step - loss: 1.1085 - acc: 0.6420\n",
      "Epoch 8/25\n",
      "50000/50000 [==============================] - 44s 871us/step - loss: 1.1548 - acc: 0.6306\n",
      "Epoch 9/25\n",
      "50000/50000 [==============================] - 43s 870us/step - loss: 1.1791 - acc: 0.6233\n",
      "Epoch 10/25\n",
      "50000/50000 [==============================] - 44s 876us/step - loss: 1.2143 - acc: 0.6135\n",
      "Epoch 11/25\n",
      "50000/50000 [==============================] - 44s 874us/step - loss: 1.2529 - acc: 0.6006\n",
      "Epoch 12/25\n",
      "50000/50000 [==============================] - 44s 871us/step - loss: 1.2911 - acc: 0.5917\n",
      "Epoch 13/25\n",
      "50000/50000 [==============================] - 43s 869us/step - loss: 1.3203 - acc: 0.5833\n",
      "Epoch 14/25\n",
      "50000/50000 [==============================] - 43s 868us/step - loss: 1.3512 - acc: 0.5755\n",
      "Epoch 15/25\n",
      "50000/50000 [==============================] - 43s 862us/step - loss: 1.4101 - acc: 0.5549\n",
      "Epoch 16/25\n",
      "50000/50000 [==============================] - 43s 858us/step - loss: 1.4225 - acc: 0.5501\n",
      "Epoch 17/25\n",
      "50000/50000 [==============================] - 44s 870us/step - loss: 1.4757 - acc: 0.5331\n",
      "Epoch 18/25\n",
      "50000/50000 [==============================] - 43s 869us/step - loss: 1.5357 - acc: 0.5134\n",
      "Epoch 19/25\n",
      "50000/50000 [==============================] - 44s 872us/step - loss: 1.5506 - acc: 0.5029\n",
      "Epoch 20/25\n",
      "50000/50000 [==============================] - 43s 869us/step - loss: 1.5883 - acc: 0.4905\n",
      "Epoch 21/25\n",
      "50000/50000 [==============================] - 43s 868us/step - loss: 1.6091 - acc: 0.4852\n",
      "Epoch 22/25\n",
      "50000/50000 [==============================] - 44s 878us/step - loss: 1.6126 - acc: 0.4809\n",
      "Epoch 23/25\n",
      "50000/50000 [==============================] - 44s 871us/step - loss: 1.6450 - acc: 0.4674\n",
      "Epoch 24/25\n",
      "50000/50000 [==============================] - 43s 869us/step - loss: 1.6580 - acc: 0.4647\n",
      "Epoch 25/25\n",
      "50000/50000 [==============================] - 44s 872us/step - loss: 1.6668 - acc: 0.4617\n"
     ]
    },
    {
     "data": {
      "text/plain": [
       "<keras.callbacks.History at 0x22469e93408>"
      ]
     },
     "execution_count": 13,
     "metadata": {},
     "output_type": "execute_result"
    }
   ],
   "source": [
    "model2.add(Convolution2D(32, (3, 3),input_shape=(32,32,3)))\n",
    "model2.add(Convolution2D(32, (3,3), activation = 'relu'))\n",
    "model2.add(MaxPooling2D((2,2)))\n",
    "model2.add(Dropout(0.25))\n",
    "model2.add(Convolution2D(64,(3,3), activation = 'relu'))\n",
    "model2.add(Convolution2D(64,(3,3), activation = 'relu'))\n",
    "model2.add(MaxPooling2D((2,2)))\n",
    "model2.add(Dropout(0.25))\n",
    "model2.add(Flatten())\n",
    "#Quantity of outputs after flattening\n",
    "model2.add(Dense(64*8,activation = 'relu'))\n",
    "model2.add(Dropout(0.5))\n",
    "#Number of different classes i.e. airplane, dog etc.\n",
    "model2.add(Dense(10, activation = 'softmax'))\n",
    "\n",
    "model2.compile(optimizer='rmsprop', loss='categorical_crossentropy', metrics=['accuracy'])\n",
    "\n",
    "model2.fit(x_train, y_train, batch_size=32, epochs=25 , shuffle=True, verbose=1)"
   ]
  },
  {
   "cell_type": "code",
   "execution_count": 14,
   "metadata": {},
   "outputs": [
    {
     "name": "stdout",
     "output_type": "stream",
     "text": [
      "10000/10000 [==============================] - 6s 644us/step\n"
     ]
    },
    {
     "data": {
      "text/plain": [
       "0.5077"
      ]
     },
     "execution_count": 14,
     "metadata": {},
     "output_type": "execute_result"
    }
   ],
   "source": [
    "scores2 = model2.evaluate(x_test, y_test, verbose=1)\n",
    "scores2[1] "
   ]
  },
  {
   "cell_type": "code",
   "execution_count": 15,
   "metadata": {},
   "outputs": [],
   "source": [
    "model2.save(\"model_2_\"+str(scores2[1])+\"_%_underfitted\")"
   ]
  },
  {
   "cell_type": "code",
   "execution_count": 19,
   "metadata": {},
   "outputs": [
    {
     "name": "stdout",
     "output_type": "stream",
     "text": [
      "Epoch 1/25\n",
      "50000/50000 [==============================] - 64s 1ms/step - loss: 1.8487 - acc: 0.3217: 1s - loss: 1.8\n",
      "Epoch 2/25\n",
      "50000/50000 [==============================] - 43s 870us/step - loss: 1.5234 - acc: 0.4437\n",
      "Epoch 3/25\n",
      "50000/50000 [==============================] - 43s 869us/step - loss: 1.3842 - acc: 0.5016\n",
      "Epoch 4/25\n",
      "50000/50000 [==============================] - 43s 870us/step - loss: 1.2871 - acc: 0.5383\n",
      "Epoch 5/25\n",
      "50000/50000 [==============================] - 44s 880us/step - loss: 1.2097 - acc: 0.5718\n",
      "Epoch 6/25\n",
      "50000/50000 [==============================] - 43s 869us/step - loss: 1.1436 - acc: 0.5970\n",
      "Epoch 7/25\n",
      "50000/50000 [==============================] - 44s 870us/step - loss: 1.0873 - acc: 0.6153\n",
      "Epoch 8/25\n",
      "50000/50000 [==============================] - 43s 866us/step - loss: 1.0365 - acc: 0.6367\n",
      "Epoch 9/25\n",
      "50000/50000 [==============================] - 43s 869us/step - loss: 0.9962 - acc: 0.6536\n",
      "Epoch 10/25\n",
      "50000/50000 [==============================] - 43s 868us/step - loss: 0.9509 - acc: 0.6684\n",
      "Epoch 11/25\n",
      "50000/50000 [==============================] - 43s 868us/step - loss: 0.9250 - acc: 0.6759\n",
      "Epoch 12/25\n",
      "50000/50000 [==============================] - 43s 868us/step - loss: 0.8974 - acc: 0.6870\n",
      "Epoch 13/25\n",
      "50000/50000 [==============================] - 44s 876us/step - loss: 0.8683 - acc: 0.6967\n",
      "Epoch 14/25\n",
      "50000/50000 [==============================] - 44s 884us/step - loss: 0.8463 - acc: 0.7061\n",
      "Epoch 15/25\n",
      "50000/50000 [==============================] - 43s 866us/step - loss: 0.8301 - acc: 0.7108\n",
      "Epoch 16/25\n",
      "50000/50000 [==============================] - 43s 866us/step - loss: 0.8119 - acc: 0.7155\n",
      "Epoch 17/25\n",
      "50000/50000 [==============================] - 43s 868us/step - loss: 0.7980 - acc: 0.7224\n",
      "Epoch 18/25\n",
      "50000/50000 [==============================] - 43s 866us/step - loss: 0.7777 - acc: 0.7299\n",
      "Epoch 19/25\n",
      "50000/50000 [==============================] - 43s 868us/step - loss: 0.7686 - acc: 0.7310\n",
      "Epoch 20/25\n",
      "50000/50000 [==============================] - 43s 867us/step - loss: 0.7535 - acc: 0.7394\n",
      "Epoch 21/25\n",
      "50000/50000 [==============================] - 43s 868us/step - loss: 0.7489 - acc: 0.7407\n",
      "Epoch 22/25\n",
      "50000/50000 [==============================] - 43s 866us/step - loss: 0.7368 - acc: 0.7448\n",
      "Epoch 23/25\n",
      "50000/50000 [==============================] - 43s 866us/step - loss: 0.7271 - acc: 0.7490\n",
      "Epoch 24/25\n",
      "50000/50000 [==============================] - 43s 867us/step - loss: 0.7186 - acc: 0.7509\n",
      "Epoch 25/25\n",
      "50000/50000 [==============================] - 43s 867us/step - loss: 0.7130 - acc: 0.7542\n"
     ]
    },
    {
     "data": {
      "text/plain": [
       "<keras.callbacks.History at 0x2245b93f508>"
      ]
     },
     "execution_count": 19,
     "metadata": {},
     "output_type": "execute_result"
    }
   ],
   "source": [
    "\n",
    "\n",
    "model3 = Sequential()\n",
    "model3.add(Convolution2D(32, (3, 3),input_shape=(32,32,3)))\n",
    "model3.add(Convolution2D(32, (3,3), activation = 'relu'))\n",
    "model3.add(MaxPooling2D((2,2)))\n",
    "model3.add(Dropout(0.25))\n",
    "model3.add(Convolution2D(64,(3,3), activation = 'relu'))\n",
    "model3.add(Convolution2D(64,(3,3), activation = 'relu'))\n",
    "model3.add(MaxPooling2D((2,2)))\n",
    "model3.add(Dropout(0.25))\n",
    "model3.add(Flatten())\n",
    "#Quantity of outputs after flattening\n",
    "model3.add(Dense(64*8,activation = 'relu'))\n",
    "model3.add(Dropout(0.5))\n",
    "#Number of different classes i.e. airplane, dog etc.\n",
    "model3.add(Dense(10, activation = 'softmax'))\n",
    "\n",
    "opt = keras.optimizers.RMSprop(lr=0.0001, decay=1e-6)\n",
    "model3.compile(optimizer=opt, loss='categorical_crossentropy', metrics=['accuracy'])\n",
    "model3.fit(x_train, y_train, batch_size=32, epochs=25 , shuffle=True, verbose=1)\n",
    "\n",
    "\n"
   ]
  },
  {
   "cell_type": "code",
   "execution_count": 20,
   "metadata": {},
   "outputs": [
    {
     "name": "stdout",
     "output_type": "stream",
     "text": [
      "10000/10000 [==============================] - 6s 618us/step\n"
     ]
    },
    {
     "data": {
      "text/plain": [
       "0.753"
      ]
     },
     "execution_count": 20,
     "metadata": {},
     "output_type": "execute_result"
    }
   ],
   "source": [
    "scores3 = model3.evaluate(x_test, y_test, verbose=1)\n",
    "scores3[1] \n"
   ]
  },
  {
   "cell_type": "code",
   "execution_count": 21,
   "metadata": {},
   "outputs": [],
   "source": [
    "model3.save(\"model_3_\"+str(scores3[1])+\"_%_underfitted\")"
   ]
  },
  {
   "cell_type": "code",
   "execution_count": null,
   "metadata": {},
   "outputs": [],
   "source": []
  }
 ],
 "metadata": {
  "kernelspec": {
   "display_name": "Python 3",
   "language": "python",
   "name": "python3"
  },
  "language_info": {
   "codemirror_mode": {
    "name": "ipython",
    "version": 3
   },
   "file_extension": ".py",
   "mimetype": "text/x-python",
   "name": "python",
   "nbconvert_exporter": "python",
   "pygments_lexer": "ipython3",
   "version": "3.7.4"
  }
 },
 "nbformat": 4,
 "nbformat_minor": 2
}
