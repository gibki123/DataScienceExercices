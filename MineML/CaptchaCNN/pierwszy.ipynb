{
 "cells": [
  {
   "cell_type": "code",
   "execution_count": 1,
   "metadata": {},
   "outputs": [],
   "source": [
    "import os\n",
    "import os.path\n",
    "import cv2\n",
    "import glob\n",
    "import imutils\n",
    "from matplotlib import pyplot as plt\n"
   ]
  },
  {
   "cell_type": "code",
   "execution_count": 2,
   "metadata": {},
   "outputs": [],
   "source": [
    "IMAGES_FOLDER = \"obrazy\"\n",
    "OUTPUT_FOLDER = \"przetworzone_obrazy\"\n",
    "\n",
    "PIXEL_MARGIN = 3\n",
    "\n",
    "# przygotowanie listy plików w określonym folderze\n",
    "image_files = glob.glob(os.path.join(IMAGES_FOLDER, \"*\"))\n",
    "\n",
    "# licznik okreslonych znakow\n",
    "counts = {}\n",
    "\n",
    "files_failed = 0"
   ]
  },
  {
   "cell_type": "code",
   "execution_count": 4,
   "metadata": {},
   "outputs": [
    {
     "name": "stdout",
     "output_type": "stream",
     "text": [
      "588 files failed\n"
     ]
    }
   ],
   "source": [
    "\n",
    "for (i, image_file) in enumerate(image_files):\n",
    "    #print(\"Przetwarzanie obrazu {}/{}\".format(i + 1, len(image_files)))\n",
    "    # Zakladamy, ze nazywy plikow okreslaja znaki jakie sa na obrazie\n",
    "    # Pobranie nazwy pliku\n",
    "    filename = os.path.basename(image_file)\n",
    "    text = os.path.splitext(filename)[0]\n",
    "    # Odczyt pliku za pomoca opencv\n",
    "    # TODO:1.1\n",
    "    img = cv2.imread(image_file)\n",
    "    \n",
    "    # Przetworzenie obrazu z RBG do odcieni szarosci\n",
    "    # TODO:1.2\n",
    "    img_g = cv2.cvtColor(img, cv2.COLOR_BGR2GRAY)\n",
    "    \n",
    "    \n",
    "        \n",
    "    # Progowanie zdjęcia tak aby było czarno biale a nie w odcieniach szarosci\n",
    "    thresh = cv2.threshold(img_g, 0, 255, cv2.THRESH_BINARY_INV | cv2.THRESH_OTSU)[1]\n",
    "\n",
    "#     if i == 1:\n",
    "#         plt.imshow(img_g)\n",
    "#         plt.title('my picture')\n",
    "#         plt.show()\n",
    "#         plt.imshow(img)\n",
    "#         plt.title('my picture')\n",
    "#         plt.show()\n",
    "#         plt.imshow(thresh)\n",
    "#         plt.title('my picture')\n",
    "#         plt.show()\n",
    "        \n",
    "        \n",
    "    # Wykrywanie konturow na zdjeciu\n",
    "    contours = cv2.findContours(thresh.copy(), cv2.RETR_EXTERNAL, cv2.CHAIN_APPROX_SIMPLE)\n",
    "    contours = contours[0]\n",
    "\n",
    "    letter_image_regions = []\n",
    "\n",
    "    # Przetwarzanie konturow na regiony ze znakami zdjec\n",
    "    for contour in contours:\n",
    "        # Pobranie danych o wielkosci i polozeniu  konturu\n",
    "        (x, y, w, h) = cv2.boundingRect(contour)\n",
    "        letter_image_regions.append((x, y, w, h))\n",
    "\n",
    "    # Zakladamy, ze nasze obrazy posiadaja taka sama liczbe znakow.\n",
    "    # Sprawdzenie czy udalo sie wykryc 4 kontury\n",
    "    if len(letter_image_regions) != 4:\n",
    "        continue\n",
    "\n",
    "    # Sortowanie wykrytych znakow tak aby isc od lewej do prawej\n",
    "    letter_image_regions = sorted(letter_image_regions, key=lambda x: x[0])\n",
    "\n",
    "    # Zapisywanie poszczegolnych znakow z obrazu do osobnych plikow\n",
    "    for letter_bounding_box, letter_text in zip(letter_image_regions, text):\n",
    "        \n",
    "        # Pobranie danych o wielkosci i polozeniu znaku\n",
    "        x, y, w, h = letter_bounding_box\n",
    "\n",
    "        # Wyciecie znaku z obrazu wraz z dodatkowym marginesem\n",
    "        letter_image = thresh[y - PIXEL_MARGIN:y + h + PIXEL_MARGIN, x - PIXEL_MARGIN:x + w + PIXEL_MARGIN]\n",
    "\n",
    "        # Stworzenie sciezki do zapisu\n",
    "        save_path = os.path.join(OUTPUT_FOLDER, letter_text)\n",
    "\n",
    "        # Stworzenie folderu jeżeli nie istatnie\n",
    "        if not os.path.exists(save_path):\n",
    "            os.makedirs(save_path)\n",
    "\n",
    "        # Stworzenie nazwy pliku (sciezki) do zapisu\n",
    "        count = counts.get(letter_text, 1)\n",
    "        p = os.path.join(save_path, \"{}.png\".format(str(count).zfill(6)))\n",
    "\n",
    "        # Zapis znaku pliku\n",
    "        # Czasami obrazy sa zle wycinane, try/except zabezpiecza przed blednym zapisaem pliku\n",
    "        try:\n",
    "            pass\n",
    "            # TODO:1.3\n",
    "            cv2.imwrite(p,letter_image)\n",
    "        except:\n",
    "            files_failed = files_failed + 1\n",
    "            pass\n",
    "        # inkrementacja licznika okreslonego typu znakow\n",
    "        counts[letter_text] = count + 1\n",
    "\n",
    "print(\"{0} files failed\".format(files_failed))\n",
    "        \n",
    "    "
   ]
  },
  {
   "cell_type": "code",
   "execution_count": null,
   "metadata": {},
   "outputs": [],
   "source": []
  }
 ],
 "metadata": {
  "kernelspec": {
   "display_name": "Python 3",
   "language": "python",
   "name": "python3"
  },
  "language_info": {
   "codemirror_mode": {
    "name": "ipython",
    "version": 3
   },
   "file_extension": ".py",
   "mimetype": "text/x-python",
   "name": "python",
   "nbconvert_exporter": "python",
   "pygments_lexer": "ipython3",
   "version": "3.7.4"
  }
 },
 "nbformat": 4,
 "nbformat_minor": 2
}
