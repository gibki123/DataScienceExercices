{
 "cells": [
  {
   "cell_type": "code",
   "execution_count": 221,
   "metadata": {},
   "outputs": [],
   "source": [
    "import pandas as pd \n",
    "import numpy as np\n",
    "import tensorflow as tf\n",
    "from tensorflow.keras.models import Sequential\n",
    "from tensorflow.keras.layers import Dense, Dropout\n",
    "from sklearn.metrics import classification_report,confusion_matrix\n",
    "from sklearn.neighbors import KNeighborsClassifier\n",
    "from sklearn.model_selection import train_test_split\n",
    "from sklearn.svm import SVC\n",
    "from sklearn.tree import DecisionTreeClassifier\n",
    "from sklearn.ensemble import RandomForestClassifier\n",
    "from sklearn.linear_model import LogisticRegression\n",
    "import os"
   ]
  },
  {
   "cell_type": "code",
   "execution_count": 222,
   "metadata": {},
   "outputs": [
    {
     "data": {
      "text/plain": [
       "False    4355\n",
       "dtype: int64"
      ]
     },
     "execution_count": 222,
     "metadata": {},
     "output_type": "execute_result"
    }
   ],
   "source": [
    "df_train = pd.read_csv(\"train_wine.csv\")\n",
    "df_test = pd.read_csv(\"test_wine.csv\")\n",
    "df_train = df_train.drop_duplicates()\n",
    "df_train.duplicated().value_counts()"
   ]
  },
  {
   "cell_type": "code",
   "execution_count": 223,
   "metadata": {},
   "outputs": [],
   "source": [
    "# mapping = {'poor': 0,'medium': 1, 'good': 2,  'excellent': 3}\n",
    "# df_train['class'] = [mapping[item] for item in df_train['class']] "
   ]
  },
  {
   "cell_type": "code",
   "execution_count": 224,
   "metadata": {},
   "outputs": [],
   "source": [
    "dummies = pd.get_dummies(df_train['color'], drop_first = True)\n",
    "df_train = df_train.drop(['color'], axis=1)\n",
    "df_train['isWhite'] = dummies\n",
    "\n",
    "df_train = df_train.drop(['condition', 'chlor.class', 'vineyard', 'acidity.variance', \n",
    "                          'sulfur.taste', 'acid.sulfur', 'acid.taste', 'id'], axis=1)\n",
    "\n",
    "dummies = pd.get_dummies(df_test['color'], drop_first = True)\n",
    "df_test = df_test.drop(['color'], axis=1)\n",
    "df_test['isWhite'] = dummies\n",
    "\n",
    "df_test = df_test.drop(['condition', 'chlor.class', 'vineyard', 'acidity.variance', \n",
    "                          'sulfur.taste', 'acid.sulfur', 'acid.taste'], axis=1)\n",
    "\n",
    "df_test_without_id = df_test.drop(['id'], axis=1)\n"
   ]
  },
  {
   "cell_type": "code",
   "execution_count": 225,
   "metadata": {},
   "outputs": [
    {
     "name": "stdout",
     "output_type": "stream",
     "text": [
      "False    3796\n",
      "True      559\n",
      "dtype: int64\n",
      "good         2624\n",
      "medium       1433\n",
      "poor          165\n",
      "excellent     133\n",
      "Name: class, dtype: int64\n"
     ]
    }
   ],
   "source": [
    "# df_train = df_train.drop_duplicates()\n",
    "print(df_train.duplicated().value_counts())\n",
    "print(df_train['class'].value_counts())"
   ]
  },
  {
   "cell_type": "code",
   "execution_count": 226,
   "metadata": {
    "scrolled": true
   },
   "outputs": [],
   "source": [
    "# df_train.corr()[\"class\"].sort_values()"
   ]
  },
  {
   "cell_type": "code",
   "execution_count": 227,
   "metadata": {},
   "outputs": [],
   "source": [
    "y = df_train['class']\n",
    "x = df_train.drop(['class'], axis= 1)\n",
    "X_train, X_test, y_train, y_test = train_test_split(x, y, test_size=0.1)\n",
    "mapping = {'poor': 0,'medium': 1, 'good': 2,  'excellent': 3}\n",
    "y_train = [mapping[item] for item in y_train] \n",
    "mapping = {'poor':0 ,'medium':1 , 'good': 2,  'excellent': 3}\n",
    "y_test = [mapping[item] for item in y_test] "
   ]
  },
  {
   "cell_type": "code",
   "execution_count": 230,
   "metadata": {},
   "outputs": [
    {
     "name": "stdout",
     "output_type": "stream",
     "text": [
      "              precision    recall  f1-score   support\n",
      "\n",
      "           0       0.67      0.11      0.18        19\n",
      "           1       0.69      0.63      0.66       129\n",
      "           2       0.79      0.89      0.84       275\n",
      "           3       1.00      0.23      0.38        13\n",
      "\n",
      "    accuracy                           0.76       436\n",
      "   macro avg       0.79      0.46      0.51       436\n",
      "weighted avg       0.76      0.76      0.74       436\n",
      "\n",
      "[[  2   8   9   0]\n",
      " [  1  81  47   0]\n",
      " [  0  29 246   0]\n",
      " [  0   0  10   3]]\n"
     ]
    }
   ],
   "source": [
    "rfc = RandomForestClassifier(n_estimators=200)\n",
    "rfc.fit(X_train,y_train)\n",
    "predictions = rfc.predict(X_test)\n",
    "print(classification_report(y_test,predictions))\n",
    "print(confusion_matrix(y_test,predictions))\n"
   ]
  },
  {
   "cell_type": "code",
   "execution_count": null,
   "metadata": {},
   "outputs": [],
   "source": []
  },
  {
   "cell_type": "code",
   "execution_count": null,
   "metadata": {},
   "outputs": [],
   "source": [
    "mapping = {0:\"poor\",1:\"medium\",2:\"good\",3:\"excellent\"}\n",
    "predictions =  [mapping[item] for item in predictions]"
   ]
  },
  {
   "cell_type": "code",
   "execution_count": null,
   "metadata": {},
   "outputs": [],
   "source": [
    "import csv\n",
    "output = pd.DataFrame({\"id\": df_test.id, \"class\": predictions})\n",
    "output.to_csv('wyniki.csv', index=False, quoting=csv.QUOTE_NONNUMERIC)\n",
    "print(\"Your submission was successfully saved!\")"
   ]
  },
  {
   "cell_type": "code",
   "execution_count": null,
   "metadata": {},
   "outputs": [],
   "source": [
    "log_reg = LogisticRegression().fit(X_train, y_train)\n",
    "predictions = log_reg.predict(X_test)\n",
    "print(classification_report(y_test,predictions))\n",
    "print(confusion_matrix(y_test,predictions))"
   ]
  },
  {
   "cell_type": "code",
   "execution_count": null,
   "metadata": {},
   "outputs": [],
   "source": []
  }
 ],
 "metadata": {
  "kernelspec": {
   "display_name": "Python 3",
   "language": "python",
   "name": "python3"
  },
  "language_info": {
   "codemirror_mode": {
    "name": "ipython",
    "version": 3
   },
   "file_extension": ".py",
   "mimetype": "text/x-python",
   "name": "python",
   "nbconvert_exporter": "python",
   "pygments_lexer": "ipython3",
   "version": "3.7.4"
  }
 },
 "nbformat": 4,
 "nbformat_minor": 4
}
