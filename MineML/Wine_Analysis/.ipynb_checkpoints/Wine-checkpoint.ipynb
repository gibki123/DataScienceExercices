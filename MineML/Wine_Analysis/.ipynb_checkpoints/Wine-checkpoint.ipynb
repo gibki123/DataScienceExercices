{
 "cells": [
  {
   "cell_type": "code",
   "execution_count": 1,
   "metadata": {},
   "outputs": [],
   "source": [
    "import pandas as pd \n",
    "import numpy as np\n",
    "import tensorflow as tf\n",
    "from tensorflow.keras.models import Sequential\n",
    "from tensorflow.keras.layers import Dense, Dropout\n",
    "from sklearn.metrics import classification_report,confusion_matrix\n",
    "from sklearn.neighbors import KNeighborsClassifier\n",
    "from sklearn.model_selection import train_test_split\n",
    "from sklearn.svm import SVC\n",
    "from sklearn.tree import DecisionTreeClassifier\n",
    "from sklearn.ensemble import RandomForestClassifier"
   ]
  },
  {
   "cell_type": "code",
   "execution_count": 2,
   "metadata": {},
   "outputs": [],
   "source": [
    "df = pd.read_csv(\"train_wine.csv\")\n",
    "mapping = {'poor': 0,'medium': 1, 'good': 2,  'excellent': 3}\n",
    "df['class'] = [mapping[item] for item in df['class']] \n",
    "\n",
    "dummies = pd.get_dummies(df['color'], drop_first = True)\n",
    "df = df.drop(['color'], axis=1)\n",
    "df['isWhite'] = dummies\n",
    "\n",
    "dummies_vineyard = pd.get_dummies(df['vineyard'], drop_first = True)\n",
    "df = df.drop(['vineyard'], axis=1)\n",
    "df = pd.concat([df, dummies_vineyard], axis=1)\n",
    "\n",
    "dummies_chlor = pd.get_dummies(df['chlor.class'], drop_first = True)\n",
    "df = df.drop(['chlor.class'], axis=1)\n",
    "df = pd.concat([df, dummies_chlor], axis=1)\n",
    "\n",
    "dummies_condition = pd.get_dummies(df['condition'], drop_first = True)\n",
    "df = df.drop(['condition'], axis=1)\n",
    "df = pd.concat([df, dummies_condition], axis=1)\n",
    "\n",
    "df = df.drop(['id'], axis=1)"
   ]
  },
  {
   "cell_type": "code",
   "execution_count": 3,
   "metadata": {},
   "outputs": [],
   "source": [
    "y = df['class']\n",
    "x = df.drop(['class'], axis= 1)\n",
    "X_train, X_test, y_train, y_test = train_test_split(x, y, test_size=0.33)"
   ]
  },
  {
   "cell_type": "code",
   "execution_count": 4,
   "metadata": {},
   "outputs": [
    {
     "name": "stdout",
     "output_type": "stream",
     "text": [
      "              precision    recall  f1-score   support\n",
      "\n",
      "           0       0.00      0.00      0.00        55\n",
      "           1       0.47      0.36      0.41       449\n",
      "           2       0.68      0.82      0.74       893\n",
      "           3       0.00      0.00      0.00        41\n",
      "\n",
      "    accuracy                           0.63      1438\n",
      "   macro avg       0.29      0.30      0.29      1438\n",
      "weighted avg       0.57      0.63      0.59      1438\n",
      "\n",
      "[[  0  24  31   0]\n",
      " [  0 163 286   0]\n",
      " [  0 157 736   0]\n",
      " [  0   5  36   0]]\n"
     ]
    },
    {
     "name": "stderr",
     "output_type": "stream",
     "text": [
      "C:\\Users\\macie\\Anaconda3\\lib\\site-packages\\sklearn\\metrics\\classification.py:1437: UndefinedMetricWarning: Precision and F-score are ill-defined and being set to 0.0 in labels with no predicted samples.\n",
      "  'precision', 'predicted', average, warn_for)\n"
     ]
    }
   ],
   "source": [
    "knn = KNeighborsClassifier(n_neighbors=20)\n",
    "knn.fit(X_train, y_train)\n",
    "pred = knn.predict(X_test)\n",
    "print(classification_report(y_test,pred))\n",
    "print(confusion_matrix(y_test,pred))"
   ]
  },
  {
   "cell_type": "code",
   "execution_count": 5,
   "metadata": {},
   "outputs": [
    {
     "name": "stderr",
     "output_type": "stream",
     "text": [
      "C:\\Users\\macie\\Anaconda3\\lib\\site-packages\\sklearn\\svm\\base.py:193: FutureWarning: The default value of gamma will change from 'auto' to 'scale' in version 0.22 to account better for unscaled features. Set gamma explicitly to 'auto' or 'scale' to avoid this warning.\n",
      "  \"avoid this warning.\", FutureWarning)\n"
     ]
    },
    {
     "name": "stdout",
     "output_type": "stream",
     "text": [
      "[[  1  21  33   0]\n",
      " [  0 171 278   0]\n",
      " [  0 109 784   0]\n",
      " [  0   1  39   1]]\n",
      "              precision    recall  f1-score   support\n",
      "\n",
      "           0       1.00      0.02      0.04        55\n",
      "           1       0.57      0.38      0.46       449\n",
      "           2       0.69      0.88      0.77       893\n",
      "           3       1.00      0.02      0.05        41\n",
      "\n",
      "    accuracy                           0.67      1438\n",
      "   macro avg       0.81      0.33      0.33      1438\n",
      "weighted avg       0.67      0.67      0.63      1438\n",
      "\n"
     ]
    }
   ],
   "source": [
    "svc_model = SVC()\n",
    "svc_model.fit(X_train,y_train)\n",
    "predictions = svc_model.predict(X_test)\n",
    "print(confusion_matrix(y_test,predictions))\n",
    "print(classification_report(y_test,predictions))"
   ]
  },
  {
   "cell_type": "code",
   "execution_count": 6,
   "metadata": {
    "scrolled": true
   },
   "outputs": [
    {
     "name": "stdout",
     "output_type": "stream",
     "text": [
      "              precision    recall  f1-score   support\n",
      "\n",
      "           0       0.15      0.15      0.15        55\n",
      "           1       0.54      0.59      0.56       449\n",
      "           2       0.75      0.72      0.73       893\n",
      "           3       0.16      0.15      0.15        41\n",
      "\n",
      "    accuracy                           0.64      1438\n",
      "   macro avg       0.40      0.40      0.40      1438\n",
      "weighted avg       0.64      0.64      0.64      1438\n",
      "\n",
      "[[  8  25  20   2]\n",
      " [ 21 264 161   3]\n",
      " [ 26 197 643  27]\n",
      " [  0   2  33   6]]\n"
     ]
    }
   ],
   "source": [
    "dtree = DecisionTreeClassifier()\n",
    "dtree.fit(X_train,y_train)\n",
    "predictions = dtree.predict(X_test)\n",
    "print(classification_report(y_test,predictions))\n",
    "print(confusion_matrix(y_test,predictions))"
   ]
  },
  {
   "cell_type": "code",
   "execution_count": 7,
   "metadata": {
    "scrolled": true
   },
   "outputs": [
    {
     "name": "stdout",
     "output_type": "stream",
     "text": [
      "              precision    recall  f1-score   support\n",
      "\n",
      "           0       0.00      0.00      0.00        55\n",
      "           1       0.66      0.59      0.62       449\n",
      "           2       0.76      0.88      0.81       893\n",
      "           3       0.50      0.02      0.05        41\n",
      "\n",
      "    accuracy                           0.73      1438\n",
      "   macro avg       0.48      0.37      0.37      1438\n",
      "weighted avg       0.69      0.73      0.70      1438\n",
      "\n",
      "[[  0  30  25   0]\n",
      " [  0 266 183   0]\n",
      " [  0 110 782   1]\n",
      " [  0   0  40   1]]\n"
     ]
    },
    {
     "name": "stderr",
     "output_type": "stream",
     "text": [
      "C:\\Users\\macie\\Anaconda3\\lib\\site-packages\\sklearn\\metrics\\classification.py:1437: UndefinedMetricWarning: Precision and F-score are ill-defined and being set to 0.0 in labels with no predicted samples.\n",
      "  'precision', 'predicted', average, warn_for)\n"
     ]
    }
   ],
   "source": [
    "rfc = RandomForestClassifier(n_estimators=100)\n",
    "rfc.fit(X_train,y_train)\n",
    "predictions = rfc.predict(X_test)\n",
    "print(classification_report(y_test,predictions))\n",
    "print(confusion_matrix(y_test,predictions))"
   ]
  },
  {
   "cell_type": "code",
   "execution_count": 8,
   "metadata": {},
   "outputs": [],
   "source": [
    "df2 = pd.read_csv(\"sample_submission.csv\")\n",
    "\n",
    "df3 = pd.read_csv(\"test_wine.csv\")\n",
    "df3 = df3.drop(['id'], axis=1)\n",
    "df2 = pd.concat([df2, df3], axis=1)\n",
    "df2 = df2.drop(['id'], axis=1)\n",
    "mapping = {'poor': 0,'medium': 1, 'good': 2,  'excellent': 3}\n",
    "df2['class'] = [mapping[item] for item in df2['class']] \n",
    "\n",
    "dummies = pd.get_dummies(df2['color'], drop_first = True)\n",
    "df2 = df2.drop(['color'], axis=1)\n",
    "df2['isWhite'] = dummies\n",
    "\n",
    "dummies_vineyard = pd.get_dummies(df2['vineyard'], drop_first = True)\n",
    "df2 = df2.drop(['vineyard'], axis=1)\n",
    "df2 = pd.concat([df2, dummies_vineyard], axis=1)\n",
    "\n",
    "dummies_chlor = pd.get_dummies(df2['chlor.class'], drop_first = True)\n",
    "df2 = df2.drop(['chlor.class'], axis=1)\n",
    "df2 = pd.concat([df2, dummies_chlor], axis=1)\n",
    "\n",
    "dummies_condition = pd.get_dummies(df2['condition'], drop_first = True)\n",
    "df2 = df2.drop(['condition'], axis=1)\n",
    "df2 = pd.concat([df2, dummies_condition], axis=1)"
   ]
  },
  {
   "cell_type": "code",
   "execution_count": 9,
   "metadata": {},
   "outputs": [],
   "source": [
    "df3 = pd.concat([df, df2], axis=0)"
   ]
  },
  {
   "cell_type": "code",
   "execution_count": 10,
   "metadata": {},
   "outputs": [],
   "source": [
    "y = df3['class']\n",
    "x = df3.drop(['class'], axis= 1)\n",
    "X_train, X_test, y_train, y_test = train_test_split(x, y, test_size=0.33)"
   ]
  },
  {
   "cell_type": "code",
   "execution_count": 11,
   "metadata": {},
   "outputs": [
    {
     "name": "stderr",
     "output_type": "stream",
     "text": [
      "C:\\Users\\macie\\Anaconda3\\lib\\site-packages\\sklearn\\metrics\\classification.py:1437: UndefinedMetricWarning: Precision and F-score are ill-defined and being set to 0.0 in labels with no predicted samples.\n",
      "  'precision', 'predicted', average, warn_for)\n"
     ]
    },
    {
     "name": "stdout",
     "output_type": "stream",
     "text": [
      "              precision    recall  f1-score   support\n",
      "\n",
      "           0       0.00      0.00      0.00        55\n",
      "           1       0.46      0.30      0.36       680\n",
      "           2       0.68      0.84      0.75      1371\n",
      "           3       0.00      0.00      0.00        39\n",
      "\n",
      "    accuracy                           0.63      2145\n",
      "   macro avg       0.28      0.29      0.28      2145\n",
      "weighted avg       0.58      0.63      0.60      2145\n",
      "\n",
      "[[   0   19   36    0]\n",
      " [   0  205  475    0]\n",
      " [   0  219 1152    0]\n",
      " [   0    1   38    0]]\n"
     ]
    }
   ],
   "source": [
    "knn = KNeighborsClassifier(n_neighbors=20)\n",
    "knn.fit(X_train, y_train)\n",
    "pred = knn.predict(X_test)\n",
    "print(classification_report(y_test,pred))\n",
    "print(confusion_matrix(y_test,pred))"
   ]
  },
  {
   "cell_type": "code",
   "execution_count": 12,
   "metadata": {},
   "outputs": [
    {
     "name": "stderr",
     "output_type": "stream",
     "text": [
      "C:\\Users\\macie\\Anaconda3\\lib\\site-packages\\sklearn\\svm\\base.py:193: FutureWarning: The default value of gamma will change from 'auto' to 'scale' in version 0.22 to account better for unscaled features. Set gamma explicitly to 'auto' or 'scale' to avoid this warning.\n",
      "  \"avoid this warning.\", FutureWarning)\n"
     ]
    },
    {
     "name": "stdout",
     "output_type": "stream",
     "text": [
      "[[   0   20   35    0]\n",
      " [   0  243  437    0]\n",
      " [   0  180 1191    0]\n",
      " [   0    2   37    0]]\n",
      "              precision    recall  f1-score   support\n",
      "\n",
      "           0       0.00      0.00      0.00        55\n",
      "           1       0.55      0.36      0.43       680\n",
      "           2       0.70      0.87      0.78      1371\n",
      "           3       0.00      0.00      0.00        39\n",
      "\n",
      "    accuracy                           0.67      2145\n",
      "   macro avg       0.31      0.31      0.30      2145\n",
      "weighted avg       0.62      0.67      0.63      2145\n",
      "\n"
     ]
    },
    {
     "name": "stderr",
     "output_type": "stream",
     "text": [
      "C:\\Users\\macie\\Anaconda3\\lib\\site-packages\\sklearn\\metrics\\classification.py:1437: UndefinedMetricWarning: Precision and F-score are ill-defined and being set to 0.0 in labels with no predicted samples.\n",
      "  'precision', 'predicted', average, warn_for)\n"
     ]
    }
   ],
   "source": [
    "svc_model = SVC()\n",
    "svc_model.fit(X_train,y_train)\n",
    "predictions = svc_model.predict(X_test)\n",
    "print(confusion_matrix(y_test,predictions))\n",
    "print(classification_report(y_test,predictions))"
   ]
  },
  {
   "cell_type": "code",
   "execution_count": 13,
   "metadata": {},
   "outputs": [
    {
     "name": "stdout",
     "output_type": "stream",
     "text": [
      "              precision    recall  f1-score   support\n",
      "\n",
      "           0       0.09      0.07      0.08        55\n",
      "           1       0.61      0.63      0.62       680\n",
      "           2       0.79      0.78      0.78      1371\n",
      "           3       0.09      0.10      0.10        39\n",
      "\n",
      "    accuracy                           0.70      2145\n",
      "   macro avg       0.39      0.40      0.39      2145\n",
      "weighted avg       0.70      0.70      0.70      2145\n",
      "\n",
      "[[   4   24   27    0]\n",
      " [  19  429  228    4]\n",
      " [  21  249 1066   35]\n",
      " [   2    1   32    4]]\n"
     ]
    }
   ],
   "source": [
    "dtree = DecisionTreeClassifier()\n",
    "dtree.fit(X_train,y_train)\n",
    "predictions = dtree.predict(X_test)\n",
    "print(classification_report(y_test,predictions))\n",
    "print(confusion_matrix(y_test,predictions))"
   ]
  },
  {
   "cell_type": "code",
   "execution_count": 14,
   "metadata": {},
   "outputs": [
    {
     "name": "stdout",
     "output_type": "stream",
     "text": [
      "              precision    recall  f1-score   support\n",
      "\n",
      "           0       0.00      0.00      0.00        55\n",
      "           1       0.75      0.65      0.69       680\n",
      "           2       0.80      0.91      0.85      1371\n",
      "           3       0.00      0.00      0.00        39\n",
      "\n",
      "    accuracy                           0.79      2145\n",
      "   macro avg       0.39      0.39      0.39      2145\n",
      "weighted avg       0.75      0.79      0.77      2145\n",
      "\n",
      "[[   0   27   28    0]\n",
      " [   0  442  238    0]\n",
      " [   0  123 1247    1]\n",
      " [   0    1   38    0]]\n"
     ]
    },
    {
     "name": "stderr",
     "output_type": "stream",
     "text": [
      "C:\\Users\\macie\\Anaconda3\\lib\\site-packages\\sklearn\\metrics\\classification.py:1437: UndefinedMetricWarning: Precision and F-score are ill-defined and being set to 0.0 in labels with no predicted samples.\n",
      "  'precision', 'predicted', average, warn_for)\n"
     ]
    }
   ],
   "source": [
    "rfc = RandomForestClassifier(n_estimators=100)\n",
    "rfc.fit(X_train,y_train)\n",
    "predictions = rfc.predict(X_test)\n",
    "print(classification_report(y_test,predictions))\n",
    "print(confusion_matrix(y_test,predictions))"
   ]
  },
  {
   "cell_type": "code",
   "execution_count": 15,
   "metadata": {},
   "outputs": [],
   "source": [
    "model = Sequential()\n",
    "\n",
    "model.add(Dense(200, activation='relu', input_dim = 50))\n",
    "model.add(Dropout(0.5))\n",
    "model.add(Dense(100, activation='relu'))\n",
    "model.add(Dropout(0.5))\n",
    "model.add(Dense(50, activation='relu'))\n",
    "model.add(Dropout(0.5))\n",
    "model.add(Dense(4, activation='softmax'))\n",
    "\n",
    "model.compile(loss='categorical_crossentropy', optimizer='adam', metrics=['accuracy'])"
   ]
  },
  {
   "cell_type": "code",
   "execution_count": 16,
   "metadata": {},
   "outputs": [],
   "source": [
    "y_train = tf.keras.utils.to_categorical(y_train,num_classes=4)\n",
    "y_test = tf.keras.utils.to_categorical(y_test,num_classes=4)"
   ]
  },
  {
   "cell_type": "code",
   "execution_count": 25,
   "metadata": {},
   "outputs": [
    {
     "name": "stdout",
     "output_type": "stream",
     "text": [
      "Train on 4352 samples, validate on 2145 samples\n",
      "Epoch 1/20\n",
      "4352/4352 [==============================] - 0s 14us/sample - loss: 1.3834 - accuracy: 0.5411 - val_loss: 0.8427 - val_accuracy: 0.6392\n",
      "Epoch 2/20\n",
      "4352/4352 [==============================] - 0s 13us/sample - loss: 1.2066 - accuracy: 0.5744 - val_loss: 0.8519 - val_accuracy: 0.6392\n",
      "Epoch 3/20\n",
      "4352/4352 [==============================] - 0s 13us/sample - loss: 1.1088 - accuracy: 0.5885 - val_loss: 0.8597 - val_accuracy: 0.6392\n",
      "Epoch 4/20\n",
      "4352/4352 [==============================] - 0s 14us/sample - loss: 1.0780 - accuracy: 0.5947 - val_loss: 0.8916 - val_accuracy: 0.6392\n",
      "Epoch 5/20\n",
      "4352/4352 [==============================] - 0s 14us/sample - loss: 1.0059 - accuracy: 0.6085 - val_loss: 0.8892 - val_accuracy: 0.6392\n",
      "Epoch 6/20\n",
      "4352/4352 [==============================] - 0s 13us/sample - loss: 0.9966 - accuracy: 0.6121 - val_loss: 0.8900 - val_accuracy: 0.6392\n",
      "Epoch 7/20\n",
      "4352/4352 [==============================] - 0s 13us/sample - loss: 0.9629 - accuracy: 0.6245 - val_loss: 0.8940 - val_accuracy: 0.6392\n",
      "Epoch 8/20\n",
      "4352/4352 [==============================] - 0s 15us/sample - loss: 0.9427 - accuracy: 0.6243 - val_loss: 0.9110 - val_accuracy: 0.6392\n",
      "Epoch 9/20\n",
      "4352/4352 [==============================] - 0s 14us/sample - loss: 0.9576 - accuracy: 0.6227 - val_loss: 0.8838 - val_accuracy: 0.6392\n",
      "Epoch 10/20\n",
      "4352/4352 [==============================] - 0s 14us/sample - loss: 0.9454 - accuracy: 0.6307 - val_loss: 0.8782 - val_accuracy: 0.6392\n",
      "Epoch 11/20\n",
      "4352/4352 [==============================] - 0s 14us/sample - loss: 0.9204 - accuracy: 0.6291 - val_loss: 0.8925 - val_accuracy: 0.6392\n",
      "Epoch 12/20\n",
      "4352/4352 [==============================] - 0s 14us/sample - loss: 0.9260 - accuracy: 0.6287 - val_loss: 0.8800 - val_accuracy: 0.6392\n",
      "Epoch 13/20\n",
      "4352/4352 [==============================] - 0s 14us/sample - loss: 0.9142 - accuracy: 0.6321 - val_loss: 0.8671 - val_accuracy: 0.6392\n",
      "Epoch 14/20\n",
      "4352/4352 [==============================] - 0s 13us/sample - loss: 0.9094 - accuracy: 0.6296 - val_loss: 0.8705 - val_accuracy: 0.6392\n",
      "Epoch 15/20\n",
      "4352/4352 [==============================] - 0s 12us/sample - loss: 0.8899 - accuracy: 0.6326 - val_loss: 0.8616 - val_accuracy: 0.6392\n",
      "Epoch 16/20\n",
      "4352/4352 [==============================] - 0s 13us/sample - loss: 0.8933 - accuracy: 0.6337 - val_loss: 0.8594 - val_accuracy: 0.6392\n",
      "Epoch 17/20\n",
      "4352/4352 [==============================] - 0s 13us/sample - loss: 0.8928 - accuracy: 0.6353 - val_loss: 0.8432 - val_accuracy: 0.6392\n",
      "Epoch 18/20\n",
      "4352/4352 [==============================] - 0s 13us/sample - loss: 0.8908 - accuracy: 0.6347 - val_loss: 0.8531 - val_accuracy: 0.6392\n",
      "Epoch 19/20\n",
      "4352/4352 [==============================] - 0s 13us/sample - loss: 0.8915 - accuracy: 0.6360 - val_loss: 0.8561 - val_accuracy: 0.6392\n",
      "Epoch 20/20\n",
      "4352/4352 [==============================] - 0s 14us/sample - loss: 0.8853 - accuracy: 0.6340 - val_loss: 0.8470 - val_accuracy: 0.6392\n"
     ]
    },
    {
     "data": {
      "text/plain": [
       "<tensorflow.python.keras.callbacks.History at 0x24f1085ae48>"
      ]
     },
     "execution_count": 25,
     "metadata": {},
     "output_type": "execute_result"
    }
   ],
   "source": [
    "model.fit(x=X_train.values, y=y_train, epochs=20, batch_size=128, validation_data=(X_test.values, y_test))"
   ]
  },
  {
   "cell_type": "code",
   "execution_count": 26,
   "metadata": {},
   "outputs": [],
   "source": [
    "losses = pd.DataFrame(model.history.history)"
   ]
  },
  {
   "cell_type": "code",
   "execution_count": 27,
   "metadata": {},
   "outputs": [
    {
     "data": {
      "text/plain": [
       "<matplotlib.axes._subplots.AxesSubplot at 0x24f11a93848>"
      ]
     },
     "execution_count": 27,
     "metadata": {},
     "output_type": "execute_result"
    },
    {
     "data": {
      "image/png": "[encoded data removed]",
      "text/plain": [
       "<Figure size 432x288 with 1 Axes>"
      ]
     },
     "metadata": {
      "needs_background": "light"
     },
     "output_type": "display_data"
    }
   ],
   "source": [
    "losses.plot()"
   ]
  },
  {
   "cell_type": "code",
   "execution_count": 28,
   "metadata": {},
   "outputs": [
    {
     "name": "stdout",
     "output_type": "stream",
     "text": [
      "2145/2145 [==============================] - 0s 19us/sample - loss: 0.8470 - accuracy: 0.6392\n"
     ]
    }
   ],
   "source": [
    "score = model.evaluate(X_test, y_test)"
   ]
  },
  {
   "cell_type": "code",
   "execution_count": 29,
   "metadata": {},
   "outputs": [
    {
     "data": {
      "text/plain": [
       "[0.8470251356805121, 0.6391608]"
      ]
     },
     "execution_count": 29,
     "metadata": {},
     "output_type": "execute_result"
    }
   ],
   "source": [
    "score"
   ]
  },
  {
   "cell_type": "code",
   "execution_count": 22,
   "metadata": {},
   "outputs": [
    {
     "data": {
      "text/plain": [
       "Index(['class', 'fixed.acidity', 'acid.sulfur', 'volatile.acidity',\n",
       "       'sulfur.taste', 'citric.acid', 'residual.sugar', 'chlorides',\n",
       "       'free.sulfur.dioxide', 'total.sulfur.dioxide', 'density', 'pH',\n",
       "       'acid.taste', 'sulphates', 'acidity.variance', 'alcohol', 'isWhite',\n",
       "       'B', 'C', 'D', 'E', 'b2', 'b3', 'c1', 'c2', 'c3', 'd1', 'd2', 'd3',\n",
       "       'e1', 'e2', 'e3', 'f1', 'f2', 'f3', 'g1', 'g2', 'g3', 'h1', 'h2', 'h3',\n",
       "       'i1', 'i2', 'i3', 'I1', 'I2', 'P1', 'P2', 'S1', 'S2', 'S3'],\n",
       "      dtype='object')"
      ]
     },
     "execution_count": 22,
     "metadata": {},
     "output_type": "execute_result"
    }
   ],
   "source": [
    "df3.columns"
   ]
  },
  {
   "cell_type": "code",
   "execution_count": 23,
   "metadata": {},
   "outputs": [],
   "source": [
    "df3 = df3.drop(['B', 'C', 'D', 'E', 'b2', 'b3', 'c1', 'c2', 'c3', 'd1', 'd2', 'd3',\n",
    "       'e1', 'e2', 'e3', 'f1', 'f2', 'f3', 'g1', 'g2', 'g3', 'h1', 'h2', 'h3',\n",
    "       'i1', 'i2', 'i3', 'I1', 'I2', 'P1', 'P2', 'S1', 'S2', 'S3'], axis = 1)"
   ]
  },
  {
   "cell_type": "code",
   "execution_count": null,
   "metadata": {},
   "outputs": [],
   "source": []
  },
  {
   "cell_type": "code",
   "execution_count": null,
   "metadata": {},
   "outputs": [],
   "source": []
  }
 ],
 "metadata": {
  "kernelspec": {
   "display_name": "Python 3",
   "language": "python",
   "name": "python3"
  },
  "language_info": {
   "codemirror_mode": {
    "name": "ipython",
    "version": 3
   },
   "file_extension": ".py",
   "mimetype": "text/x-python",
   "name": "python",
   "nbconvert_exporter": "python",
   "pygments_lexer": "ipython3",
   "version": "3.7.4"
  }
 },
 "nbformat": 4,
 "nbformat_minor": 4
}
