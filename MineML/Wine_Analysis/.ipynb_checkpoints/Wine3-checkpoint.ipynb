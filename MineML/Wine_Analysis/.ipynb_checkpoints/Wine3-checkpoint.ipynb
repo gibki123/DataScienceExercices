{
 "cells": [
  {
   "cell_type": "code",
   "execution_count": 1,
   "metadata": {},
   "outputs": [],
   "source": [
    "import pandas as pd \n",
    "import numpy as np\n",
    "import tensorflow as tf\n",
    "from tensorflow.keras.models import Sequential\n",
    "from tensorflow.keras.layers import Dense, Dropout\n",
    "from sklearn.metrics import classification_report,confusion_matrix\n",
    "from sklearn.neighbors import KNeighborsClassifier\n",
    "from sklearn.model_selection import train_test_split, GridSearchCV, cross_val_score\n",
    "from sklearn.svm import SVC\n",
    "from sklearn.tree import DecisionTreeClassifier\n",
    "from sklearn.ensemble import RandomForestClassifier\n",
    "from sklearn.linear_model import LogisticRegression\n",
    "from sklearn.preprocessing import StandardScaler, LabelEncoder\n",
    "import os\n",
    "import random\n",
    "from sklearn.ensemble import RandomForestRegressor\n",
    "from pprint import pprint"
   ]
  },
  {
   "cell_type": "code",
   "execution_count": 2,
   "metadata": {},
   "outputs": [
    {
     "data": {
      "text/plain": [
       "False    4355\n",
       "dtype: int64"
      ]
     },
     "execution_count": 2,
     "metadata": {},
     "output_type": "execute_result"
    }
   ],
   "source": [
    "df_train = pd.read_csv(\"train_wine.csv\")\n",
    "df_test = pd.read_csv(\"test_wine.csv\")\n",
    "df_train = df_train.drop_duplicates()\n",
    "df_train.duplicated().value_counts()"
   ]
  },
  {
   "cell_type": "code",
   "execution_count": 3,
   "metadata": {},
   "outputs": [],
   "source": [
    "# mapping = {'poor': 0,'medium': 1, 'good': 2,  'excellent': 3}\n",
    "# df_train['class'] = [mapping[item] for item in df_train['class']] "
   ]
  },
  {
   "cell_type": "code",
   "execution_count": 4,
   "metadata": {},
   "outputs": [],
   "source": [
    "dummies = pd.get_dummies(df_train['color'], drop_first = True)\n",
    "df_train = df_train.drop(['color'], axis=1)\n",
    "df_train['isWhite'] = dummies\n",
    "\n",
    "df_train = df_train.drop(['condition', 'chlor.class', 'vineyard', 'acidity.variance', \n",
    "                          'sulfur.taste', 'acid.sulfur', 'acid.taste', 'id'], axis=1)\n",
    "\n",
    "dummies = pd.get_dummies(df_test['color'], drop_first = True)\n",
    "df_test = df_test.drop(['color'], axis=1)\n",
    "df_test['isWhite'] = dummies\n",
    "\n",
    "df_test = df_test.drop(['condition', 'chlor.class', 'vineyard', 'acidity.variance', \n",
    "                          'sulfur.taste', 'acid.sulfur', 'acid.taste'], axis=1)\n",
    "\n",
    "df_test_without_id = df_test.drop(['id'], axis=1)\n"
   ]
  },
  {
   "cell_type": "code",
   "execution_count": 5,
   "metadata": {},
   "outputs": [
    {
     "name": "stdout",
     "output_type": "stream",
     "text": [
      "False    3796\n",
      "dtype: int64\n",
      "good         2276\n",
      "medium       1251\n",
      "poor          161\n",
      "excellent     108\n",
      "Name: class, dtype: int64\n"
     ]
    }
   ],
   "source": [
    "df_train = df_train.drop_duplicates()\n",
    "print(df_train.duplicated().value_counts())\n",
    "print(df_train['class'].value_counts())"
   ]
  },
  {
   "cell_type": "code",
   "execution_count": 6,
   "metadata": {},
   "outputs": [],
   "source": [
    "poor_samples = df_train[df_train['class'] == 'poor']\n",
    "excellent_samples = df_train[df_train['class'] == 'excellent']"
   ]
  },
  {
   "cell_type": "code",
   "execution_count": 7,
   "metadata": {},
   "outputs": [],
   "source": [
    "dictionary_excellent = {}\n",
    "for index, value in enumerate(excellent_samples.drop(['class'], axis=1).columns):\n",
    "    dictionary_excellent['min_' + value] = excellent_samples[value].min()\n",
    "    dictionary_excellent['max_' + value] = excellent_samples[value].max()    \n",
    "dictionary_poor = {}\n",
    "for index, value in enumerate(poor_samples.drop(['class'], axis=1).columns):\n",
    "    dictionary_poor['min_' + value] = poor_samples[value].min()\n",
    "    dictionary_poor['max_' + value] = poor_samples[value].max() \n"
   ]
  },
  {
   "cell_type": "code",
   "execution_count": 8,
   "metadata": {},
   "outputs": [],
   "source": [
    "df_excellent = pd.DataFrame()\n",
    "for i in range(648):\n",
    "    dictionary = {}\n",
    "    for key in excellent_samples.drop(['class'], axis=1).columns:\n",
    "        if key == 'isWhite':\n",
    "            outcome = random.uniform(dictionary_excellent['min_' + key],dictionary_excellent['max_' + key])\n",
    "            if outcome >= 0.15:\n",
    "                dictionary[key] = 1\n",
    "            else:\n",
    "                dictionary[key] = 0\n",
    "        else:\n",
    "            dictionary[key] = [random.uniform(dictionary_excellent['min_' + key],dictionary_excellent['max_' + key])] \n",
    "    df_from_dictionary = pd.DataFrame.from_dict(dictionary)\n",
    "    df_excellent = pd.concat([df_excellent,df_from_dictionary])\n",
    "    \n",
    "df_poor = pd.DataFrame()\n",
    "for i in range(966):\n",
    "    dictionary = {}\n",
    "    for key in poor_samples.drop(['class'], axis=1).columns:\n",
    "        if key == 'isWhite':\n",
    "            outcome = random.uniform(dictionary_excellent['min_' + key],dictionary_excellent['max_' + key])\n",
    "            if outcome >= 0.33:\n",
    "                dictionary[key] = 1\n",
    "            else:\n",
    "                dictionary[key] = 0\n",
    "        else:\n",
    "            dictionary[key] = [random.uniform(dictionary_poor['min_' + key],dictionary_poor['max_' + key])] \n",
    "    df_from_dictionary = pd.DataFrame.from_dict(dictionary)\n",
    "    df_poor = pd.concat([df_poor,df_from_dictionary])"
   ]
  },
  {
   "cell_type": "code",
   "execution_count": 9,
   "metadata": {},
   "outputs": [],
   "source": [
    "df_poor['class'] = 'poor'\n",
    "df_excellent['class'] = 'excellent'\n",
    "df_poor = df_poor[['class','fixed.acidity', 'volatile.acidity', 'citric.acid', 'residual.sugar',\n",
    "       'chlorides', 'free.sulfur.dioxide', 'total.sulfur.dioxide', 'density',\n",
    "       'pH', 'sulphates', 'alcohol', 'isWhite']]\n",
    "df_excellent = df_excellent[['class','fixed.acidity', 'volatile.acidity', 'citric.acid', 'residual.sugar',\n",
    "       'chlorides', 'free.sulfur.dioxide', 'total.sulfur.dioxide', 'density',\n",
    "       'pH', 'sulphates', 'alcohol' , 'isWhite']]"
   ]
  },
  {
   "cell_type": "code",
   "execution_count": 10,
   "metadata": {},
   "outputs": [],
   "source": [
    "df_train_with_extra_samples = pd.concat([df_train, df_poor, df_excellent])"
   ]
  },
  {
   "cell_type": "code",
   "execution_count": 11,
   "metadata": {},
   "outputs": [
    {
     "name": "stdout",
     "output_type": "stream",
     "text": [
      "2    2276\n",
      "1    1251\n",
      "0    1127\n",
      "3     756\n",
      "Name: class, dtype: int64\n"
     ]
    }
   ],
   "source": [
    "mapping = {'poor': 0,'medium': 1, 'good': 2,  'excellent': 3}\n",
    "df_train_with_extra_samples['class'] = [mapping[item] for item in df_train_with_extra_samples['class']] \n",
    "print(df_train_with_extra_samples['class'].value_counts())"
   ]
  },
  {
   "cell_type": "code",
   "execution_count": 12,
   "metadata": {},
   "outputs": [],
   "source": [
    "sc = StandardScaler()"
   ]
  },
  {
   "cell_type": "code",
   "execution_count": 13,
   "metadata": {},
   "outputs": [],
   "source": [
    "y = df_train_with_extra_samples['class']\n",
    "x = df_train_with_extra_samples.drop(['class'], axis= 1)\n",
    "# X_train, X_test, y_train, y_test = train_test_split(x, y, test_size=0.1)\n",
    "# mapping = {'poor': 0,'medium': 1, 'good': 2,  'excellent': 3}\n",
    "# y_train = [mapping[item] for item in y_train] \n",
    "# mapping = {'poor':0 ,'medium':1 , 'good': 2,  'excellent': 3}\n",
    "# y_test = [mapping[item] for item in y_test] \n",
    "# X_test = sc.fit_transform(X_test)\n",
    "# X_train = sc.fit_transform(X_train)\n",
    "x = sc.fit_transform(x)\n",
    "df_test_without_id = sc.fit_transform(df_test_without_id)"
   ]
  },
  {
   "cell_type": "code",
   "execution_count": null,
   "metadata": {},
   "outputs": [],
   "source": [
    "# rfc = RandomForestClassifier(n_estimators=50)\n",
    "# rfc.fit(X_train,y_train)\n",
    "# predictions = rfc.predict(X_test)\n",
    "# print(classification_report(y_test,predictions))\n",
    "# print(confusion_matrix(y_test,predictions))\n"
   ]
  },
  {
   "cell_type": "code",
   "execution_count": null,
   "metadata": {},
   "outputs": [],
   "source": []
  },
  {
   "cell_type": "code",
   "execution_count": null,
   "metadata": {},
   "outputs": [],
   "source": [
    "from sklearn.model_selection import RandomizedSearchCV\n",
    "# Number of trees in random forest\n",
    "n_estimators = [int(x) for x in np.linspace(start = 100, stop = 500, num = 3)]\n",
    "# Number of features to consider at every split\n",
    "max_features = ['auto', 'sqrt']\n",
    "# Maximum number of levels in tree\n",
    "max_depth = [int(x) for x in np.linspace(10, 100, num = 5)]\n",
    "max_depth.append(None)\n",
    "# Minimum number of samples required to split a node\n",
    "min_samples_split = [2, 5, 10]\n",
    "# Minimum number of samples required at each leaf node\n",
    "min_samples_leaf = [1, 2, 4]\n",
    "# Method of selecting samples for training each tree\n",
    "bootstrap = [True, False]\n",
    "# Create the random grid\n",
    "random_grid = {'n_estimators': n_estimators,\n",
    "               'max_features': max_features,\n",
    "               'max_depth': max_depth,\n",
    "               'min_samples_split': min_samples_split,\n",
    "               'min_samples_leaf': min_samples_leaf,\n",
    "               'bootstrap': bootstrap}\n",
    "print(random_grid)\n",
    "{'bootstrap': [True, False],\n",
    " 'max_depth': [10, 20, 30, 40, 50, 60, 70, 80, 90, 100, None],\n",
    " 'max_features': ['auto', 'sqrt'],\n",
    " 'min_samples_leaf': [1, 2, 4],\n",
    " 'min_samples_split': [2, 5, 10],\n",
    " 'n_estimators': [100, 200, 400, 600, 800, 1000, 1200, 1400, 1600, 1800, 2000]}"
   ]
  },
  {
   "cell_type": "code",
   "execution_count": null,
   "metadata": {},
   "outputs": [],
   "source": [
    "# Use the random grid to search for best hyperparameters\n",
    "# First create the base model to tune\n",
    "rf = RandomForestClassifier()\n",
    "# Random search of parameters, using 3 fold cross validation, \n",
    "# search across 100 different combinations, and use all available cores\n",
    "rf_random = RandomizedSearchCV(estimator = rf, param_distributions = random_grid, n_iter = 100, cv = 3, verbose=2, random_state=42, n_jobs = -1)\n",
    "# Fit the random search model\n",
    "rf_random.fit(X_train, y_train)"
   ]
  },
  {
   "cell_type": "code",
   "execution_count": null,
   "metadata": {},
   "outputs": [],
   "source": [
    "best_random = rf_random.best_estimator_\n",
    "print(best_random)"
   ]
  },
  {
   "cell_type": "code",
   "execution_count": null,
   "metadata": {},
   "outputs": [],
   "source": []
  },
  {
   "cell_type": "code",
   "execution_count": null,
   "metadata": {},
   "outputs": [],
   "source": [
    "best_random = RandomForestClassifier(bootstrap=True, class_weight=None, criterion='gini',\n",
    "                       max_depth=100, max_features='sqrt', max_leaf_nodes=None,\n",
    "                       min_impurity_decrease=0.0, min_impurity_split=None,\n",
    "                       min_samples_leaf=1, min_samples_split=5,\n",
    "                       min_weight_fraction_leaf=0.0, n_estimators=300,\n",
    "                       n_jobs=None, oob_score=False, random_state=None,\n",
    "                       verbose=0, warm_start=False).fit(X_train,y_train)\n",
    "predictions = best_random.predict(X_test)\n",
    "print(classification_report(y_test,predictions))\n",
    "print(confusion_matrix(y_test,predictions))"
   ]
  },
  {
   "cell_type": "code",
   "execution_count": null,
   "metadata": {},
   "outputs": [],
   "source": [
    "rfc_eval = cross_val_score(estimator = best_random, X = X_train, y = y_train, cv = 10)"
   ]
  },
  {
   "cell_type": "code",
   "execution_count": null,
   "metadata": {},
   "outputs": [],
   "source": [
    "rfc_eval.max()"
   ]
  },
  {
   "cell_type": "code",
   "execution_count": null,
   "metadata": {},
   "outputs": [],
   "source": [
    "predictions = best_random.predict(df_test_without_id)"
   ]
  },
  {
   "cell_type": "code",
   "execution_count": null,
   "metadata": {},
   "outputs": [],
   "source": [
    "mapping = {0:\"poor\",1:\"medium\",2:\"good\",3:\"excellent\"}\n",
    "predictions =  [mapping[item] for item in predictions]"
   ]
  },
  {
   "cell_type": "code",
   "execution_count": 17,
   "metadata": {},
   "outputs": [
    {
     "name": "stdout",
     "output_type": "stream",
     "text": [
      "Your submission was successfully saved!\n"
     ]
    }
   ],
   "source": [
    "import csv\n",
    "output = pd.DataFrame({\"id\": df_test.id, \"class\": predictions})\n",
    "output.to_csv('xgb.csv', index=False, quoting=csv.QUOTE_NONNUMERIC)\n",
    "print(\"Your submission was successfully saved!\")"
   ]
  },
  {
   "cell_type": "code",
   "execution_count": null,
   "metadata": {},
   "outputs": [],
   "source": [
    "clf = SVC()\n",
    "clf.fit(X_train, y_train) "
   ]
  },
  {
   "cell_type": "code",
   "execution_count": null,
   "metadata": {},
   "outputs": [],
   "source": [
    "ytrain_pred = clf.predict(X_test)"
   ]
  },
  {
   "cell_type": "code",
   "execution_count": null,
   "metadata": {},
   "outputs": [],
   "source": [
    "print(classification_report(y_test,ytrain_pred))\n",
    "print(confusion_matrix(y_test,ytrain_pred))"
   ]
  },
  {
   "cell_type": "code",
   "execution_count": 14,
   "metadata": {},
   "outputs": [],
   "source": [
    "import xgboost as xgb"
   ]
  },
  {
   "cell_type": "code",
   "execution_count": 15,
   "metadata": {},
   "outputs": [
    {
     "data": {
      "text/plain": [
       "XGBClassifier(base_score=None, booster=None, colsample_bylevel=None,\n",
       "              colsample_bynode=None, colsample_bytree=None, gamma=None,\n",
       "              gpu_id=None, importance_type='gain', interaction_constraints=None,\n",
       "              learning_rate=0.025, max_delta_step=None, max_depth=6,\n",
       "              min_child_weight=None, missing=nan, monotone_constraints=None,\n",
       "              n_estimators=400, n_jobs=None, num_parallel_tree=None,\n",
       "              objective='binary:logistic', random_state=None, reg_alpha=None,\n",
       "              reg_lambda=None, scale_pos_weight=None, subsample=1,\n",
       "              tree_method=None, validate_parameters=False, verbosity=None)"
      ]
     },
     "execution_count": 15,
     "metadata": {},
     "output_type": "execute_result"
    }
   ],
   "source": [
    "xgb_classifier = xgb.XGBClassifier(max_depth = 6, subsample = 1, n_estimators=400, learning_rate=0.025)\n",
    "xgb_classifier"
   ]
  },
  {
   "cell_type": "code",
   "execution_count": null,
   "metadata": {},
   "outputs": [],
   "source": [
    "xgb_classifier.fit(x,y)\n",
    "predictions = xgb_classifier.predict(X_test)\n",
    "predictions2 = xgb_classifier.predict(X_train)\n",
    "print(classification_report(y_test,predictions))\n",
    "print(confusion_matrix(y_test,predictions))\n",
    "print(classification_report(y_train,predictions2))\n",
    "print(confusion_matrix(y_train,predictions2))"
   ]
  },
  {
   "cell_type": "code",
   "execution_count": 16,
   "metadata": {},
   "outputs": [],
   "source": [
    "xgb_classifier.fit(x,y)\n",
    "predictions = xgb_classifier.predict(df_test_without_id)"
   ]
  },
  {
   "cell_type": "code",
   "execution_count": null,
   "metadata": {},
   "outputs": [],
   "source": []
  }
 ],
 "metadata": {
  "kernelspec": {
   "display_name": "Python 3",
   "language": "python",
   "name": "python3"
  },
  "language_info": {
   "codemirror_mode": {
    "name": "ipython",
    "version": 3
   },
   "file_extension": ".py",
   "mimetype": "text/x-python",
   "name": "python",
   "nbconvert_exporter": "python",
   "pygments_lexer": "ipython3",
   "version": "3.7.4"
  }
 },
 "nbformat": 4,
 "nbformat_minor": 4
}
