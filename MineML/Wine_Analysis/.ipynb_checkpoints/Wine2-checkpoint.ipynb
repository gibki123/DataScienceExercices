{
 "cells": [
  {
   "cell_type": "code",
   "execution_count": 68,
   "metadata": {},
   "outputs": [],
   "source": [
    "import pandas as pd \n",
    "import numpy as np\n",
    "import tensorflow as tf\n",
    "from tensorflow.keras.models import Sequential\n",
    "from tensorflow.keras.layers import Dense, Dropout\n",
    "from sklearn.metrics import classification_report,confusion_matrix\n",
    "from sklearn.neighbors import KNeighborsClassifier\n",
    "from sklearn.model_selection import train_test_split\n",
    "from sklearn.svm import SVC\n",
    "from sklearn.tree import DecisionTreeClassifier\n",
    "from sklearn.ensemble import RandomForestClassifier\n",
    "from sklearn.linear_model import LogisticRegression\n",
    "import os"
   ]
  },
  {
   "cell_type": "code",
   "execution_count": 69,
   "metadata": {},
   "outputs": [],
   "source": [
    "df_train = pd.read_csv(\"train_wine.csv\")\n",
    "df_test = pd.read_csv(\"test_wine.csv\")"
   ]
  },
  {
   "cell_type": "code",
   "execution_count": 70,
   "metadata": {},
   "outputs": [],
   "source": [
    "mapping = {'poor': 0,'medium': 0, 'good': 1,  'excellent': 1}\n",
    "df_train['class'] = [mapping[item] for item in df_train['class']] "
   ]
  },
  {
   "cell_type": "code",
   "execution_count": 71,
   "metadata": {},
   "outputs": [],
   "source": [
    "dummies = pd.get_dummies(df_train['color'], drop_first = True)\n",
    "df_train = df_train.drop(['color'], axis=1)\n",
    "df_train['isWhite'] = dummies\n",
    "\n",
    "df_train = df_train.drop(['condition', 'chlor.class', 'vineyard', 'acidity.variance', \n",
    "                          'sulfur.taste', 'sulphates', 'acid.sulfur', 'acid.taste', 'id'], axis=1)\n",
    "\n",
    "dummies = pd.get_dummies(df_test['color'], drop_first = True)\n",
    "df_test = df_test.drop(['color'], axis=1)\n",
    "df_test['isWhite'] = dummies\n",
    "\n",
    "df_test = df_test.drop(['condition', 'chlor.class', 'vineyard', 'acidity.variance', \n",
    "                          'sulfur.taste', 'sulphates', 'acid.sulfur', 'acid.taste'], axis=1)\n",
    "\n",
    "df_test_without_id = df_test.drop(['id'], axis=1)\n"
   ]
  },
  {
   "cell_type": "code",
   "execution_count": 72,
   "metadata": {
    "scrolled": true
   },
   "outputs": [
    {
     "data": {
      "text/plain": [
       "density                -0.267444\n",
       "volatile.acidity       -0.260541\n",
       "chlorides              -0.178528\n",
       "fixed.acidity          -0.069369\n",
       "total.sulfur.dioxide   -0.048075\n",
       "residual.sugar         -0.040165\n",
       "pH                      0.042562\n",
       "free.sulfur.dioxide     0.051114\n",
       "citric.acid             0.062734\n",
       "isWhite                 0.106011\n",
       "alcohol                 0.391551\n",
       "class                   1.000000\n",
       "Name: class, dtype: float64"
      ]
     },
     "execution_count": 72,
     "metadata": {},
     "output_type": "execute_result"
    }
   ],
   "source": [
    "df_train.corr()[\"class\"].sort_values()\n",
    "\n"
   ]
  },
  {
   "cell_type": "code",
   "execution_count": 73,
   "metadata": {},
   "outputs": [],
   "source": [
    "y = df_train['class']\n",
    "x = df_train.drop(['class'], axis= 1)\n",
    "# X_train, X_test, y_train, y_test = train_test_split(x, y, test_size=0.1)\n",
    "# mapping = {'poor': 0,'medium': 0, 'good': 1,  'excellent': 1}\n",
    "# y = [mapping[item] for item in y] \n",
    "# mapping = {'poor':2 ,'medium':0 , 'good': 1,  'excellent': 3}\n",
    "# y_test = [mapping[item] for item in y_test] "
   ]
  },
  {
   "cell_type": "code",
   "execution_count": 74,
   "metadata": {},
   "outputs": [],
   "source": [
    "rfc = RandomForestClassifier(n_estimators=200, random_state=9)\n",
    "rfc.fit(x,y)\n",
    "predictions = rfc.predict(df_test_without_id)\n",
    "# print(classification_report(y_test,predictions))\n",
    "# print(confusion_matrix(y_test,predictions))"
   ]
  },
  {
   "cell_type": "code",
   "execution_count": 75,
   "metadata": {},
   "outputs": [],
   "source": [
    "mapping = {0:'medium',1:'good'}\n",
    "predictions =  [mapping[item] for item in predictions]"
   ]
  },
  {
   "cell_type": "code",
   "execution_count": 79,
   "metadata": {},
   "outputs": [
    {
     "name": "stdout",
     "output_type": "stream",
     "text": [
      "Your submission was successfully saved!\n"
     ]
    }
   ],
   "source": [
    "output = pd.DataFrame({'\\\"id\\\"': df_test.id, '\\\"class\\\"': predictions})\n",
    "output.to_csv('wyniki.csv', index=False)\n",
    "print(\"Your submission was successfully saved!\")"
   ]
  },
  {
   "cell_type": "code",
   "execution_count": 32,
   "metadata": {},
   "outputs": [
    {
     "name": "stdout",
     "output_type": "stream",
     "text": [
      "              precision    recall  f1-score   support\n",
      "\n",
      "           0       0.58      0.52      0.55       126\n",
      "           1       0.71      0.86      0.77       267\n",
      "           2       0.00      0.00      0.00        18\n",
      "           3       0.00      0.00      0.00        25\n",
      "\n",
      "    accuracy                           0.67       436\n",
      "   macro avg       0.32      0.34      0.33       436\n",
      "weighted avg       0.60      0.67      0.63       436\n",
      "\n",
      "[[ 65  61   0   0]\n",
      " [ 38 229   0   0]\n",
      " [  8  10   0   0]\n",
      " [  1  24   0   0]]\n"
     ]
    },
    {
     "name": "stderr",
     "output_type": "stream",
     "text": [
      "C:\\Users\\macie\\Anaconda3\\lib\\site-packages\\sklearn\\linear_model\\logistic.py:432: FutureWarning: Default solver will be changed to 'lbfgs' in 0.22. Specify a solver to silence this warning.\n",
      "  FutureWarning)\n",
      "C:\\Users\\macie\\Anaconda3\\lib\\site-packages\\sklearn\\metrics\\classification.py:1437: UndefinedMetricWarning: Precision and F-score are ill-defined and being set to 0.0 in labels with no predicted samples.\n",
      "  'precision', 'predicted', average, warn_for)\n"
     ]
    }
   ],
   "source": [
    "log_reg = LogisticRegression().fit(X_train, y_train)\n",
    "predictions = log_reg.predict(X_test)\n",
    "print(classification_report(y_test,predictions))\n",
    "print(confusion_matrix(y_test,predictions))"
   ]
  },
  {
   "cell_type": "code",
   "execution_count": null,
   "metadata": {},
   "outputs": [],
   "source": []
  }
 ],
 "metadata": {
  "kernelspec": {
   "display_name": "Python 3",
   "language": "python",
   "name": "python3"
  },
  "language_info": {
   "codemirror_mode": {
    "name": "ipython",
    "version": 3
   },
   "file_extension": ".py",
   "mimetype": "text/x-python",
   "name": "python",
   "nbconvert_exporter": "python",
   "pygments_lexer": "ipython3",
   "version": "3.7.4"
  }
 },
 "nbformat": 4,
 "nbformat_minor": 4
}
