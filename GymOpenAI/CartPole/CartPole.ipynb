{
 "cells": [
  {
   "cell_type": "code",
   "execution_count": 5,
   "metadata": {},
   "outputs": [],
   "source": [
    "import gym\n",
    "import numpy as np\n",
    "from tensorflow.keras.models import Sequential\n",
    "from tensorflow.keras.layers import Dense, Dropout\n",
    "\n",
    "def gather_data(env):\n",
    "    num_trials = 10000\n",
    "    min_score = 50\n",
    "    sim_steps = 500\n",
    "    trainingX, trainingY = [], []\n",
    "\n",
    "    scores = []\n",
    "    for _ in range(num_trials):\n",
    "        observation = env.reset()\n",
    "        score = 0\n",
    "        training_sampleX, training_sampleY = [], []\n",
    "        for step in range(sim_steps):\n",
    "            # action corresponds to the previous observation so record before step\n",
    "            action = np.random.randint(0, 2)\n",
    "            one_hot_action = np.zeros(2)\n",
    "            one_hot_action[action] = 1\n",
    "            training_sampleX.append(observation)\n",
    "            training_sampleY.append(one_hot_action)\n",
    "\n",
    "            observation, reward, done, _ = env.step(action)\n",
    "            score += reward\n",
    "            if done:\n",
    "                break\n",
    "        if score > min_score:\n",
    "            scores.append(score)\n",
    "            trainingX += training_sampleX\n",
    "            trainingY += training_sampleY\n",
    "\n",
    "    trainingX, trainingY = np.array(trainingX), np.array(trainingY)\n",
    "    print(\"Average: {}\".format(np.mean(scores)))\n",
    "    print(\"Median: {}\".format(np.median(scores)))\n",
    "    return trainingX, trainingY\n",
    "\n",
    "def create_model():\n",
    "    model = Sequential()\n",
    "    model.add(Dense(128, input_shape=(4,), activation=\"relu\"))\n",
    "    model.add(Dropout(0.6))\n",
    "\n",
    "    model.add(Dense(256, activation=\"relu\"))\n",
    "    model.add(Dropout(0.6))\n",
    "\n",
    "    model.add(Dense(512, activation=\"relu\"))\n",
    "    model.add(Dropout(0.6))\n",
    "\n",
    "    model.add(Dense(256, activation=\"relu\"))\n",
    "    model.add(Dropout(0.6))\n",
    "\n",
    "    model.add(Dense(128, activation=\"relu\"))\n",
    "    model.add(Dropout(0.6))\n",
    "    model.add(Dense(2, activation=\"softmax\"))\n",
    "\n",
    "    model.compile(loss=\"categorical_crossentropy\",optimizer=\"adam\",metrics=[\"accuracy\"])\n",
    "    return model\n",
    "\n",
    "def predict():\n",
    "    env = gym.make(\"CartPole-v1\")\n",
    "    trainingX, trainingY = gather_data(env)\n",
    "    model = create_model()\n",
    "    model.fit(trainingX, trainingY, epochs=5)\n",
    "\n",
    "    scores = []\n",
    "    num_trials = 10\n",
    "    sim_steps = 500\n",
    "    for _ in range(num_trials):\n",
    "        observation = env.reset()\n",
    "        score = 0\n",
    "        for step in range(sim_steps):\n",
    "            env.render()\n",
    "            action = np.argmax(model.predict(observation.reshape(1,4)))\n",
    "            observation, reward, done, _ = env.step(action)\n",
    "            score += reward\n",
    "            if done:\n",
    "                break\n",
    "        scores.append(score)\n",
    "    env.close()\n",
    "\n",
    "    print(np.mean(scores))"
   ]
  },
  {
   "cell_type": "code",
   "execution_count": 6,
   "metadata": {},
   "outputs": [
    {
     "name": "stdout",
     "output_type": "stream",
     "text": [
      "Average: 61.974137931034484\n",
      "Median: 58.0\n",
      "Train on 21567 samples\n",
      "Epoch 1/5\n",
      "21567/21567 [==============================] - 3s 132us/sample - loss: 0.6915 - accuracy: 0.5579\n",
      "Epoch 2/5\n",
      "21567/21567 [==============================] - 2s 104us/sample - loss: 0.6793 - accuracy: 0.5796\n",
      "Epoch 3/5\n",
      "21567/21567 [==============================] - 2s 107us/sample - loss: 0.6745 - accuracy: 0.5918\n",
      "Epoch 4/5\n",
      "21567/21567 [==============================] - 2s 104us/sample - loss: 0.6727 - accuracy: 0.5912\n",
      "Epoch 5/5\n",
      "21567/21567 [==============================] - 2s 110us/sample - loss: 0.6739 - accuracy: 0.5922\n",
      "407.8\n"
     ]
    }
   ],
   "source": [
    "predict()"
   ]
  },
  {
   "cell_type": "code",
   "execution_count": 7,
   "metadata": {},
   "outputs": [
    {
     "name": "stdout",
     "output_type": "stream",
     "text": [
      "Average: 62.876543209876544\n",
      "Median: 59.0\n",
      "Train on 20372 samples\n",
      "Epoch 1/5\n",
      "20372/20372 [==============================] - 3s 137us/sample - loss: 0.6896 - accuracy: 0.5531\n",
      "Epoch 2/5\n",
      "20372/20372 [==============================] - 2s 107us/sample - loss: 0.6794 - accuracy: 0.5886\n",
      "Epoch 3/5\n",
      "20372/20372 [==============================] - 2s 113us/sample - loss: 0.6748 - accuracy: 0.5939\n",
      "Epoch 4/5\n",
      "20372/20372 [==============================] - 2s 107us/sample - loss: 0.6746 - accuracy: 0.5959\n",
      "Epoch 5/5\n",
      "20372/20372 [==============================] - 2s 107us/sample - loss: 0.6722 - accuracy: 0.6022\n",
      "275.6\n"
     ]
    }
   ],
   "source": [
    "predict()"
   ]
  },
  {
   "cell_type": "code",
   "execution_count": null,
   "metadata": {},
   "outputs": [],
   "source": []
  },
  {
   "cell_type": "code",
   "execution_count": null,
   "metadata": {},
   "outputs": [],
   "source": [
    "\n",
    "\n"
   ]
  },
  {
   "cell_type": "code",
   "execution_count": null,
   "metadata": {},
   "outputs": [],
   "source": []
  }
 ],
 "metadata": {
  "kernelspec": {
   "display_name": "Python 3",
   "language": "python",
   "name": "python3"
  },
  "language_info": {
   "codemirror_mode": {
    "name": "ipython",
    "version": 3
   },
   "file_extension": ".py",
   "mimetype": "text/x-python",
   "name": "python",
   "nbconvert_exporter": "python",
   "pygments_lexer": "ipython3",
   "version": "3.7.4"
  }
 },
 "nbformat": 4,
 "nbformat_minor": 2
}
